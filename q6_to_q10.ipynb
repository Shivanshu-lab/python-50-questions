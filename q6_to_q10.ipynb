{
 "cells": [
  {
   "cell_type": "markdown",
   "id": "8db690bd-63aa-4c79-b219-6322a8972750",
   "metadata": {},
   "source": [
    "6. Check for Anagram\n",
    " Write a function to check if two input strings are anagrams of each other.\n",
    "\n",
    " An anagram is a word or phrase that is formed by rearranging the letters of another word or phrase.\n",
    "To be anagrams, two strings must contain the exact same characters in the same quantities, but in\n",
    "any order.\n",
    " Example: listen and silent are anagrams. "
   ]
  },
  {
   "cell_type": "code",
   "execution_count": 6,
   "id": "a30ac99c-d604-4d43-bb82-e01fa582a539",
   "metadata": {},
   "outputs": [
    {
     "name": "stdin",
     "output_type": "stream",
     "text": [
      "enter string1: listen\n",
      "enter string2: silent\n"
     ]
    },
    {
     "name": "stdout",
     "output_type": "stream",
     "text": [
      "listen and silent strings are anagram\n"
     ]
    }
   ],
   "source": [
    "def anagranm_check(str1,str2): \n",
    "    if len(str1)==len(str2) and sorted(str1) == sorted(str2):\n",
    "        return True \n",
    "    else:\n",
    "        return False \n",
    "def main():\n",
    "    try:\n",
    "        str1=input(\"enter string1:\").lower() \n",
    "        str2=input(\"enter string2:\").lower()\n",
    "        if anagranm_check(str1,str2):\n",
    "            print(f\"{str1} and {str2} strings are anagram\") \n",
    "        else:\n",
    "            print(f\"{str1} and {str2} strings are not anagram\") \n",
    "    except ValueError: \n",
    "        print(\"Invalid input,please enter valid input\") \n",
    "    except Exception as e:\n",
    "        print(\"An unncesessary error occured\")\n",
    "\n",
    "if __name__==\"__main__\": \n",
    "    main()"
   ]
  },
  {
   "cell_type": "markdown",
   "id": "60e3abd7-22ef-4bb5-ac94-53f58c17a398",
   "metadata": {},
   "source": [
    "7. Count Vowels in a String\n",
    " Take a string as input and count the number of vowels (a, e, i, o, u) in it.\n",
    " Ignore case (i.e., count both uppercase and lowercase vowels).\n",
    " Example: “Python” word has 1 vowel sound(o)\n"
   ]
  },
  {
   "cell_type": "code",
   "execution_count": 4,
   "id": "fa69ed71-29f2-4279-be05-03b2d1820a0b",
   "metadata": {},
   "outputs": [
    {
     "name": "stdin",
     "output_type": "stream",
     "text": [
      "enter your string python\n"
     ]
    },
    {
     "name": "stdout",
     "output_type": "stream",
     "text": [
      "python has 1 vowel\n"
     ]
    }
   ],
   "source": [
    "import pyttsx3\n",
    "def speak(text):\n",
    "    engine = pyttsx3.init()\n",
    "    engine.say(text)\n",
    "    engine.runAndWait() \n",
    "def vowels_func(str1): \n",
    "    vowels=\"aeiou\"\n",
    "    count=0 \n",
    "    for i in str1: \n",
    "        if i in vowels:\n",
    "            count +=1 \n",
    "    return count\n",
    "def main():\n",
    "    try:\n",
    "        str1=input(\"enter your string\").lower() \n",
    "        count=vowels_func(str1)\n",
    "        if count>0:\n",
    "            print(f\"{str1} has {count} vowel\") \n",
    "            speak(f\"{str1} has {count} vowel\") \n",
    "        else: \n",
    "            print(f\"{str1} has zero vowel\") \n",
    "            speak(f\"{str1} has zero vowel\") \n",
    "    except ValueError: \n",
    "        print(\"Invalid input,please enter valid input\") \n",
    "    except Exception as e:\n",
    "        print(\"An unncesessary error occured\")\n",
    "if __name__==\"__main__\": \n",
    "    main()\n",
    "        "
   ]
  },
  {
   "cell_type": "markdown",
   "id": "1ae928ca-67e4-4ff6-8733-14d2f2a7f838",
   "metadata": {},
   "source": [
    "8. Sum of Digits\n",
    " Write a function that takes an integer as input and returns the sum of its digits.\n",
    " Example: sum_of_digits(123) "
   ]
  },
  {
   "cell_type": "code",
   "execution_count": 15,
   "id": "8469b72b-2f26-44e0-aa90-cdbb70b8708b",
   "metadata": {},
   "outputs": [
    {
     "name": "stdin",
     "output_type": "stream",
     "text": [
      "enter your number: 5555\n"
     ]
    },
    {
     "name": "stdout",
     "output_type": "stream",
     "text": [
      "sum_of_digits:5555 is 20\n"
     ]
    }
   ],
   "source": [
    "def sum_digit(num):\n",
    "    sum=0\n",
    "    for i in str(num):\n",
    "        sum += int(i) \n",
    "    return sum\n",
    "def main(): \n",
    "    try:\n",
    "        num=int(input(\"enter your number:\"))\n",
    "        result=sum_digit(num)\n",
    "        print(f\"sum_of_digits:{num} is {result}\") \n",
    "    except ValueError: \n",
    "        print(\"Invalid input,please enter valid input\") \n",
    "    except Exception as e:\n",
    "        print(\"An unncesessary error occured\")\n",
    "if __name__==\"__main__\": \n",
    "    main()     "
   ]
  },
  {
   "cell_type": "markdown",
   "id": "81abd062-a7dc-4d2a-963d-77683a6ce0e8",
   "metadata": {},
   "source": [
    "9. Fibonacci Sequence (Iterative)\n",
    " Write a function that prints the first n numbers in the Fibonacci sequence.\n",
    " Use an iterative approach.\n",
    " Example\n",
    "Input: n = 6\n",
    "Expected Output: 0, 1, 1, 2, 3, 5\n",
    " Example\n",
    "Input: n = 1\n",
    "Expected Output: 0"
   ]
  },
  {
   "cell_type": "code",
   "execution_count": 1,
   "id": "51ecdaf2-3de5-45b6-b0a1-5c2285b75a08",
   "metadata": {},
   "outputs": [
    {
     "name": "stdin",
     "output_type": "stream",
     "text": [
      "enter your number: 6\n"
     ]
    },
    {
     "name": "stdout",
     "output_type": "stream",
     "text": [
      "[0, 1, 1, 2, 3, 5]\n"
     ]
    }
   ],
   "source": [
    "def fibonacci_sequence(num):\n",
    "    a,b=0,1\n",
    "    if num<0:\n",
    "        return False\n",
    "    sequence=[]\n",
    "    for i in range(1,num+1):\n",
    "        sequence.append(a)\n",
    "        a,b=b,a+b \n",
    "    return sequence\n",
    "def main(): \n",
    "    try:\n",
    "        num=int(input(\"enter your number:\")) \n",
    "        result=fibonacci_sequence(num)\n",
    "        if result:\n",
    "            print(fibonacci_sequence(num))\n",
    "        else:\n",
    "            print(\"expected output: 0\")\n",
    "    except ValueError: \n",
    "        print(\"Invalid input,please enter valid input\") \n",
    "    except Exception as e:\n",
    "        print(\"An unncesessary error occured\")\n",
    "if __name__==\"__main__\": \n",
    "    main()   \n"
   ]
  },
  {
   "cell_type": "markdown",
   "id": "d9389132-1f2e-40ab-ae5a-e4f4f8618064",
   "metadata": {},
   "source": [
    "q10 Remove Duplicates from a List\n",
    " Write a function that removes duplicates from a list while maintaining the original order.\n",
    " Example\n",
    "Input: [1, 3, 2, 3, 4, 1, 5]\n",
    "Expected Output: [1, 3, 2, 4, 5]\n",
    " Example\n",
    "Input: [4, 4, 4, 4]\n",
    "Expected Output: [4]"
   ]
  },
  {
   "cell_type": "code",
   "execution_count": 8,
   "id": "47ba9a9e-1bae-4f30-b604-13181c591410",
   "metadata": {},
   "outputs": [
    {
     "name": "stdin",
     "output_type": "stream",
     "text": [
      "enter your number: 1 3 2 3 4 1 5\n"
     ]
    },
    {
     "name": "stdout",
     "output_type": "stream",
     "text": [
      "Expected output: [1, 3, 2, 4, 5]\n"
     ]
    }
   ],
   "source": [
    "#q10 Remove Duplicates from a List  Write a function that removes duplicates from a list while maintaining the original order.\n",
    "#  Example Input: [1, 3, 2, 3, 4, 1, 5] Expected Output: [1, 3, 2, 4, 5]  Example Input: [4, 4, 4, 4] Expected Output: [4]\n",
    "def remove_duplicates(num):\n",
    "    result=[]\n",
    "    for i in num: \n",
    "        if i not in result: \n",
    "            result.append(i)\n",
    "    return result      \n",
    "def main(): \n",
    "    try:\n",
    "        text=input(\"enter your number:\") \n",
    "        num=list(map(int,text.split()))\n",
    "        result=remove_duplicates(num)\n",
    "        print(\"Expected output:\",result)\n",
    "    except ValueError: \n",
    "        print(\"Invalid input,please enter valid input\") \n",
    "    except Exception as e:\n",
    "        print(\"An unncesessary error occured\")\n",
    "if __name__==\"__main__\": \n",
    "    main()   \n"
   ]
  },
  {
   "cell_type": "code",
   "execution_count": 10,
   "id": "494a659e-3923-490c-b950-ea649872a909",
   "metadata": {},
   "outputs": [
    {
     "name": "stdin",
     "output_type": "stream",
     "text": [
      "Enter your numbers without spaces (e.g., 132345):  123456789\n"
     ]
    },
    {
     "name": "stdout",
     "output_type": "stream",
     "text": [
      "[1, 2, 3, 4, 5, 6, 7, 8, 9]\n"
     ]
    }
   ],
   "source": [
    "text = input(\"Enter your numbers without spaces (e.g., 132345): \") \n",
    "print(list(map(int, text))) "
   ]
  },
  {
   "cell_type": "code",
   "execution_count": null,
   "id": "68835ecb-3f55-4315-9b2b-7198e0b7a71a",
   "metadata": {},
   "outputs": [],
   "source": []
  }
 ],
 "metadata": {
  "kernelspec": {
   "display_name": "Python [conda env:base] *",
   "language": "python",
   "name": "conda-base-py"
  },
  "language_info": {
   "codemirror_mode": {
    "name": "ipython",
    "version": 3
   },
   "file_extension": ".py",
   "mimetype": "text/x-python",
   "name": "python",
   "nbconvert_exporter": "python",
   "pygments_lexer": "ipython3",
   "version": "3.13.5"
  }
 },
 "nbformat": 4,
 "nbformat_minor": 5
}
