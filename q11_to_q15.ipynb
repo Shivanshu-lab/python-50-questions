{
 "cells": [
  {
   "cell_type": "markdown",
   "id": "e2553de2-f98a-4644-8424-4913043f2ad4",
   "metadata": {},
   "source": [
    "11. Check for Leap Year\n",
    " Write a function to check if a given year is a leap year.\n",
    " A leap year is divisible by 4, but not by 100, unless also divisible by 400.\n",
    " Divisible by 4: If a year can be evenly divided by 4 (like 2020), it might be a leap year.\n",
    " Not Divisible by 100: However, if that year can also be evenly divided by 100 (like 1900),\n",
    "then it&#39;s not a leap year.\n",
    "\n",
    " Unless Divisible by 400: If the year is divisible by 100, it could still be a leap year if it can also\n",
    "be evenly divided by 400 (like 2000).\n",
    "\n",
    " Example\n",
    "Input: year = 2020\n",
    "Expected Output: True (2020 is a leap year)\n",
    " Example\n",
    "Input: year = 1900\n",
    "Expected Output: False (1900 is not a leap year)\n",
    " Example\n",
    "Input: year = 2000\n",
    "Expected Output: True (2000 is a leap year)"
   ]
  },
  {
   "cell_type": "code",
   "execution_count": 10,
   "id": "5338bad0-bb88-43e9-8e04-0138c1aaa939",
   "metadata": {},
   "outputs": [
    {
     "name": "stdin",
     "output_type": "stream",
     "text": [
      "enter your year: 1900\n"
     ]
    },
    {
     "name": "stdout",
     "output_type": "stream",
     "text": [
      "False(1900 is not a leap year)\n"
     ]
    }
   ],
   "source": [
    "def leap_year(num):\n",
    "    if num%100 == 0 and num%400 ==0: \n",
    "        return True \n",
    "    elif num % 4==0 and num%100 !=0:\n",
    "        return True \n",
    "    else:\n",
    "        return False \n",
    "def main():\n",
    "    try:\n",
    "        num=int(input(\"enter your year:\")) \n",
    "        result=leap_year(num) \n",
    "        if result: \n",
    "            print(f\"{result}({num} is a leap year)\") \n",
    "        else:\n",
    "            print(f\"{result}({num} is not a leap year)\") \n",
    "    except ValueError: \n",
    "        print(\"Invalid input,please enter valid input\") \n",
    "    except Exception as e:\n",
    "        print(\"An unncesessary error occured\")\n",
    "\n",
    "if __name__==\"__main__\": \n",
    "    main()  "
   ]
  },
  {
   "cell_type": "markdown",
   "id": "c832b7c7-efff-4cbb-8877-a79954b52715",
   "metadata": {},
   "source": [
    "12. Calculate Power without Using ** Operator\n",
    " Write a function that calculates x y (x raised to the power of y) without using Python’s power\n",
    "operator (**).\n",
    " Example\n",
    "Input: x = 2, y = 3\n",
    "Expected Output: 8 (since 2^3 =8)"
   ]
  },
  {
   "cell_type": "code",
   "execution_count": 17,
   "id": "396633e7-af47-42be-bb4b-e43199f37a0f",
   "metadata": {},
   "outputs": [
    {
     "name": "stdin",
     "output_type": "stream",
     "text": [
      "Enter the base (x):  2\n",
      "Enter the exponent (y):  3\n"
     ]
    },
    {
     "name": "stdout",
     "output_type": "stream",
     "text": [
      "Expected Output: 8 (since 2^3 = 8)\n"
     ]
    }
   ],
   "source": [
    "def power(x, y):\n",
    "    result = 1\n",
    "    for _ in range(y):  # multiply x, y times\n",
    "        result *= x\n",
    "    return result\n",
    "\n",
    "def main():\n",
    "    try:\n",
    "        x = int(input(\"Enter the base (x): \"))\n",
    "        y = int(input(\"Enter the exponent (y): \"))\n",
    "\n",
    "        result = power(x, y)\n",
    "        print(f\"Expected Output: {result} (since {x}^{y} = {result})\")\n",
    "    except ValueError:\n",
    "        print(\"Invalid input, please enter integers only.\")\n",
    "    except Exception as e:\n",
    "        print(\"An error occurred:\", e)\n",
    "\n",
    "if __name__ == \"__main__\":\n",
    "    main()\n"
   ]
  },
  {
   "cell_type": "markdown",
   "id": "d36b87b9-5360-49de-894a-2e0d133ef237",
   "metadata": {},
   "source": [
    "13. Generate List of Even Numbers\n",
    " Create a function that generates a list of even numbers up to a given number.\n",
    " Example\n",
    "Input: n = 10\n",
    "Expected Output: [2, 4, 6, 8, 10]\n",
    " Example\n",
    "Input: n = 7\n",
    "Expected Output: [2, 4, 6]"
   ]
  },
  {
   "cell_type": "code",
   "execution_count": 14,
   "id": "b5fdd77d-47e8-4988-a814-d6ae0b627dcc",
   "metadata": {},
   "outputs": [
    {
     "name": "stdin",
     "output_type": "stream",
     "text": [
      "enter your year: 7\n"
     ]
    },
    {
     "name": "stdout",
     "output_type": "stream",
     "text": [
      "Expected output:[2, 4, 6]\n"
     ]
    }
   ],
   "source": [
    "def even_list_generator(num): \n",
    "    even_list=[] \n",
    "    for i in range(1,num+1): \n",
    "        if i%2==0:\n",
    "            even_list.append(i) \n",
    "    return even_list \n",
    "def main():\n",
    "    try:\n",
    "        num=int(input(\"enter your year:\")) \n",
    "        result=even_list_generator(num) \n",
    "        print(f\"Expected output:{result}\") \n",
    "    except ValueError: \n",
    "        print(\"Invalid input,please enter valid input\") \n",
    "    except Exception as e:\n",
    "        print(\"An unncesessary error occured\")\n",
    "if __name__==\"__main__\": \n",
    "    main()  "
   ]
  },
  {
   "cell_type": "markdown",
   "id": "21754d5a-68e9-4bb3-b166-03af96d5eb03",
   "metadata": {},
   "source": [
    "14. Binary Search Implementation\n",
    " Write a function that performs binary search on a sorted list and returns the index of the\n",
    "target element or -1 if not found.\n",
    " Example\n",
    "Input: sorted_list = [1, 2, 3, 4, 5, 6], target = 4\n",
    "Expected Output: 3 (since 4 is at index 3)\n",
    " Example\n",
    "Input: sorted_list = [10, 20, 30, 40, 50], target = 25\n",
    "Expected Output: -1 (since 25 is not in the list)"
   ]
  },
  {
   "cell_type": "code",
   "execution_count": 13,
   "id": "2809cf7a-a361-433d-8292-19449af8e61a",
   "metadata": {},
   "outputs": [
    {
     "name": "stdin",
     "output_type": "stream",
     "text": [
      "enter your number(comma seperated): 1,2,3,4,5,6\n",
      "enter your indexing number: 4\n"
     ]
    },
    {
     "name": "stdout",
     "output_type": "stream",
     "text": [
      "Expected Output:3(since 4 is at index 3)\n"
     ]
    }
   ],
   "source": [
    "# Binary Search Implementation  Write a function that performs binary search on a sorted list and returns the index of the target element or -1 if not found.  Example Input: sorted_list = [1, 2, 3, 4, 5, 6], target = 4 \n",
    "#Expected Output: 3 (since 4 is at index 3)  Example Input: sorted_list = [10, 20, 30, 40, 50], target = 25 Expected Output: -1 (since 25 is not in the list)\n",
    "def index_element(num,target): \n",
    "    if target in num:\n",
    "        indexed=num.index(target) \n",
    "        return indexed \n",
    "    else:\n",
    "        return -1\n",
    "def main():\n",
    "    try:\n",
    "        text=input(\"enter your number(comma seperated):\") \n",
    "        target=int(input(\"enter your indexing number:\"))\n",
    "        list1=list(map(int,text.split(\",\"))) \n",
    "        result=index_element(list1,target)\n",
    "        if result != -1: \n",
    "            print(f\"Expected Output:{result}(since {target} is at index {result})\") \n",
    "        else:\n",
    "            print(f\"Expected Output:{result}(since {target} is not in the list)\") \n",
    "    except ValueError: \n",
    "         print(\"Invalid input,please enter valid input\") \n",
    "    except Exception as e:\n",
    "        print(\"An unncesessary error occured\")\n",
    "if __name__==\"__main__\": \n",
    "    main()  "
   ]
  },
  {
   "cell_type": "markdown",
   "id": "781cc474-6ef8-4145-bdf1-b634e66c9d49",
   "metadata": {},
   "source": [
    "15. Reverse Words in a Sentence\n",
    "\n",
    " Write a function to reverse the order of words in a sentence, keeping the words themselves\n",
    "intact (sentence should not be changed or altered in any way; they should remain exactly as\n",
    "they are,).\n",
    "Example\n",
    "Input:Python is fun\n",
    "Expected Output: fun is Python"
   ]
  },
  {
   "cell_type": "code",
   "execution_count": 16,
   "id": "aec51ed4-6cb8-4cfe-b145-bd22e26a9e03",
   "metadata": {},
   "outputs": [
    {
     "name": "stdin",
     "output_type": "stream",
     "text": [
      "Enter a sentence:  python is fun\n"
     ]
    },
    {
     "name": "stdout",
     "output_type": "stream",
     "text": [
      "Expected Output: fun is python\n"
     ]
    }
   ],
   "source": [
    "def reverse_sentence(text):\n",
    "    sentence=text.split()\n",
    "    reversed_word=[]\n",
    "    for i in range(len(sentence)-1,-1,-1): \n",
    "        reversed_word.append(sentence[i]) \n",
    "    return \" \".join(reversed_word) \n",
    "def main():\n",
    "    try:\n",
    "        text = input(\"Enter a sentence: \")\n",
    "        result = reverse_sentence(text)\n",
    "        print(\"Expected Output:\", result)\n",
    "    except ValueError: \n",
    "         print(\"Invalid input,please enter valid input\") \n",
    "    except Exception as e:\n",
    "        print(\"An unncesessary error occured\")\n",
    "if __name__ == \"__main__\":\n",
    "    main()"
   ]
  },
  {
   "cell_type": "code",
   "execution_count": null,
   "id": "65a3c092-78f6-409d-9894-c46f5128f3d0",
   "metadata": {},
   "outputs": [],
   "source": []
  }
 ],
 "metadata": {
  "kernelspec": {
   "display_name": "Python [conda env:base] *",
   "language": "python",
   "name": "conda-base-py"
  },
  "language_info": {
   "codemirror_mode": {
    "name": "ipython",
    "version": 3
   },
   "file_extension": ".py",
   "mimetype": "text/x-python",
   "name": "python",
   "nbconvert_exporter": "python",
   "pygments_lexer": "ipython3",
   "version": "3.13.5"
  }
 },
 "nbformat": 4,
 "nbformat_minor": 5
}
