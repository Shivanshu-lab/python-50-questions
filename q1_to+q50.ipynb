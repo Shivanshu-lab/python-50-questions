{
 "cells": [
  {
   "cell_type": "raw",
   "id": "9358f663-7aa4-4659-84f0-fdf8a033cccb",
   "metadata": {},
   "source": [
    "1. Take the input from user and find whether number is prime or not?\n",
    "Prime numbers are number which are divide by 1 or themselves only.\n",
    "Example: 13 is a prime number.\n",
    "Example: 97 is a prime number"
   ]
  },
  {
   "cell_type": "code",
   "execution_count": 5,
   "id": "ed271b44-d054-46c1-9242-c70ddb4065c0",
   "metadata": {},
   "outputs": [
    {
     "name": "stdin",
     "output_type": "stream",
     "text": [
      "enter your number : 13\n"
     ]
    },
    {
     "name": "stdout",
     "output_type": "stream",
     "text": [
      "13 is a prime number\n"
     ]
    }
   ],
   "source": [
    "def prime_number_finder(num):\n",
    "    if num < 1:\n",
    "        return False\n",
    "    for i in range(2,num): \n",
    "        if num % i==0: \n",
    "            return False \n",
    "    return True \n",
    "def main():\n",
    "    try:\n",
    "        num=int(input(\"enter your number :\")) \n",
    "        if prime_number_finder(num): \n",
    "            print(f\"{num} is a prime number\") \n",
    "        else:\n",
    "            print(f\"{num} is not a prime number\") \n",
    "    except ValueError: \n",
    "        print(\"Invalid input,please enter valid input\") \n",
    "    except Exception as e: \n",
    "        print(f\"an unnecessary error occured\",{e})\n",
    "if __name__==\"__main__\": \n",
    "    main()"
   ]
  },
  {
   "cell_type": "raw",
   "id": "60a15001-8e90-4cd6-9a80-f2d3d4b64c12",
   "metadata": {},
   "source": [
    "Reverse the string using for loop.\n",
    "string =\"python\""
   ]
  },
  {
   "cell_type": "code",
   "execution_count": 40,
   "id": "86f93b32-00d5-40fb-ad18-d57338172200",
   "metadata": {},
   "outputs": [
    {
     "name": "stdin",
     "output_type": "stream",
     "text": [
      "enter your string : python\n"
     ]
    },
    {
     "name": "stdout",
     "output_type": "stream",
     "text": [
      "reverse string is: nohtyp\n"
     ]
    }
   ],
   "source": [
    "def reverse_string_func(text): \n",
    "    reverssed_string='' \n",
    "    for i in text:\n",
    "        reverssed_string=i+reverssed_string \n",
    "    return reverssed_string\n",
    "def main():\n",
    "    try:\n",
    "        string=input(\"enter your string :\")  \n",
    "        if not string.isalpha():\n",
    "            raise ValueError() \n",
    "        if reverse_string_func(string):\n",
    "            print(\"reverse string is:\",reverse_string_func(string)) \n",
    "    except ValueError: \n",
    "        print(\"Invalid input, please enter valid input\") \n",
    "    except Exception as e: \n",
    "        print(f\"an unnecessary error occured\",e) \n",
    "if __name__==\"__main__\": \n",
    "    main()"
   ]
  },
  {
   "cell_type": "raw",
   "id": "c5f3e49f-40d4-4b8c-b688-17f0be49f4c3",
   "metadata": {},
   "source": [
    "Palindrome Check (String Problem)\n",
    "Write a function to check whether a given string is a palindrome (a string that reads the same\n",
    "forward and backward is called palindrome).\n",
    "String = “mom” # if we reverse this string, we get the same Output “mom”\n",
    "Expected output: string is a palindrome."
   ]
  },
  {
   "cell_type": "code",
   "execution_count": 37,
   "id": "6b5fe3b6-5b18-4fcb-b08e-7bf0798d6862",
   "metadata": {},
   "outputs": [
    {
     "name": "stdin",
     "output_type": "stream",
     "text": [
      "enter your string: level\n"
     ]
    },
    {
     "name": "stdout",
     "output_type": "stream",
     "text": [
      "'level' is a palindrome string\n"
     ]
    }
   ],
   "source": [
    "def palindrome_string(text): \n",
    "    reversed_string=\"\"\n",
    "    for i in text:\n",
    "        reversed_string=i+reversed_string \n",
    "    if text==reversed_string and len(text)==len(reversed_string): \n",
    "        return True\n",
    "    else:\n",
    "        return False\n",
    "def main():\n",
    "    try:\n",
    "        string=input(\"enter your string:\") \n",
    "        if not string.isalpha(): \n",
    "            raise ValueError(\"string must contain only alphabat\")\n",
    "        if palindrome_string(string):\n",
    "            print(f\"\\'{string}\\' is a palindrome string\") \n",
    "        else:\n",
    "            print(f\"\\'{string}\\' is not a palindrome string\") \n",
    "    except ValueError as e: \n",
    "        print(\"Invalid innput,please enter valid input,\",e) \n",
    "if __name__==\"__main__\": \n",
    "    main()"
   ]
  },
  {
   "cell_type": "raw",
   "id": "8b568f58-6c2c-4a93-b3aa-ecec66c6ce05",
   "metadata": {},
   "source": [
    "4. Calculate factorial of a number\n",
    "Write a function calculate_factorial that takes a number as input and returns its factorial. Handle\n",
    "cases where the input is not a non-negative integer or zero.\n",
    "Example: If number is 5 factorials will be (5x4x2x3x2x1=120)\n",
    "Expected output: 120 if number is 5"
   ]
  },
  {
   "cell_type": "code",
   "execution_count": 45,
   "id": "0cc83932-d904-4bb8-b818-2b61bcb233d4",
   "metadata": {},
   "outputs": [
    {
     "name": "stdin",
     "output_type": "stream",
     "text": [
      "enter your number: 5\n"
     ]
    },
    {
     "name": "stdout",
     "output_type": "stream",
     "text": [
      "factorial of 5 is: 120\n"
     ]
    }
   ],
   "source": [
    "def check_factorial(num): \n",
    "    factorial=1\n",
    "    for i in range(1,num+1): \n",
    "        factorial *= i \n",
    "    return factorial \n",
    "def main(): \n",
    "    try:\n",
    "        num=int(input(\"enter your number:\")) \n",
    "        if check_factorial(num): \n",
    "            print(f\"factorial of {num} is:\",check_factorial(num)) \n",
    "    except ValueError: \n",
    "        print(\"Invalid input,please enter valid input\") \n",
    "if __name__==\"__main__\": \n",
    "    main()"
   ]
  },
  {
   "cell_type": "raw",
   "id": "7e2b82fd-9877-4e6e-b2d4-add61aa643b1",
   "metadata": {},
   "source": [
    "5. Find the Second Largest Element in a List using for loop.\n",
    "Write a function to find the second largest element in a list without using built-in sorting.\n",
    "Example\n",
    "Input: [7, 5, 8, 2, 10, 9]\n",
    "Expected Output: 9\n",
    "Example\n",
    "Input: [4, 4, 4, 4]\n",
    "Expected Output: None "
   ]
  },
  {
   "cell_type": "code",
   "execution_count": 9,
   "id": "0e9f28a6-67b8-404e-a9a2-f7549740ad42",
   "metadata": {},
   "outputs": [
    {
     "name": "stdin",
     "output_type": "stream",
     "text": [
      "enter your list 4444444\n"
     ]
    },
    {
     "name": "stdout",
     "output_type": "stream",
     "text": [
      "no second largest element is found\n"
     ]
    }
   ],
   "source": [
    "def second_largest_element_finder(text): \n",
    "    largest=second_largest=float(\"-inf\")\n",
    "    for item in text:\n",
    "        if item>largest:\n",
    "            second_largest=largest \n",
    "            largest=item \n",
    "        elif largest>item>second_largest: \n",
    "            second_largest=item \n",
    "    if second_largest==float(\"-inf\"): \n",
    "        return None\n",
    "    return second_largest \n",
    "def main(): \n",
    "    try:\n",
    "        text=input(\"enter your list\")\n",
    "        result=list(map(int,text.split())) \n",
    "        num=second_largest_element_finder(result)\n",
    "        if num is None: \n",
    "            print(\"no second largest element is found\") \n",
    "        else:\n",
    "            print(\"second largest element is:\",num)\n",
    "    except ValueError: \n",
    "        print(\"Invalid input, please enter valid input\")\n",
    "if __name__==\"__main__\": \n",
    "    main() "
   ]
  },
  {
   "cell_type": "code",
   "execution_count": null,
   "id": "887e2b5b-6a4f-4934-8ac8-7a5621932b49",
   "metadata": {},
   "outputs": [],
   "source": []
  },
  {
   "cell_type": "markdown",
   "id": "8db690bd-63aa-4c79-b219-6322a8972750",
   "metadata": {},
   "source": [
    "6. Check for Anagram\n",
    " Write a function to check if two input strings are anagrams of each other.\n",
    "\n",
    " An anagram is a word or phrase that is formed by rearranging the letters of another word or phrase.\n",
    "To be anagrams, two strings must contain the exact same characters in the same quantities, but in\n",
    "any order.\n",
    " Example: listen and silent are anagrams. "
   ]
  },
  {
   "cell_type": "code",
   "execution_count": 6,
   "id": "a30ac99c-d604-4d43-bb82-e01fa582a539",
   "metadata": {},
   "outputs": [
    {
     "name": "stdin",
     "output_type": "stream",
     "text": [
      "enter string1: listen\n",
      "enter string2: silent\n"
     ]
    },
    {
     "name": "stdout",
     "output_type": "stream",
     "text": [
      "listen and silent strings are anagram\n"
     ]
    }
   ],
   "source": [
    "def anagranm_check(str1,str2): \n",
    "    if len(str1)==len(str2) and sorted(str1) == sorted(str2):\n",
    "        return True \n",
    "    else:\n",
    "        return False \n",
    "def main():\n",
    "    try:\n",
    "        str1=input(\"enter string1:\").lower() \n",
    "        str2=input(\"enter string2:\").lower()\n",
    "        if anagranm_check(str1,str2):\n",
    "            print(f\"{str1} and {str2} strings are anagram\") \n",
    "        else:\n",
    "            print(f\"{str1} and {str2} strings are not anagram\") \n",
    "    except ValueError: \n",
    "        print(\"Invalid input,please enter valid input\") \n",
    "    except Exception as e:\n",
    "        print(\"An unncesessary error occured\")\n",
    "\n",
    "if __name__==\"__main__\": \n",
    "    main()"
   ]
  },
  {
   "cell_type": "markdown",
   "id": "60e3abd7-22ef-4bb5-ac94-53f58c17a398",
   "metadata": {},
   "source": [
    "7. Count Vowels in a String\n",
    " Take a string as input and count the number of vowels (a, e, i, o, u) in it.\n",
    " Ignore case (i.e., count both uppercase and lowercase vowels).\n",
    " Example: “Python” word has 1 vowel sound(o)\n"
   ]
  },
  {
   "cell_type": "code",
   "execution_count": 4,
   "id": "fa69ed71-29f2-4279-be05-03b2d1820a0b",
   "metadata": {},
   "outputs": [
    {
     "name": "stdin",
     "output_type": "stream",
     "text": [
      "enter your string python\n"
     ]
    },
    {
     "name": "stdout",
     "output_type": "stream",
     "text": [
      "python has 1 vowel\n"
     ]
    }
   ],
   "source": [
    "import pyttsx3\n",
    "def speak(text):\n",
    "    engine = pyttsx3.init()\n",
    "    engine.say(text)\n",
    "    engine.runAndWait() \n",
    "def vowels_func(str1): \n",
    "    vowels=\"aeiou\"\n",
    "    count=0 \n",
    "    for i in str1: \n",
    "        if i in vowels:\n",
    "            count +=1 \n",
    "    return count\n",
    "def main():\n",
    "    try:\n",
    "        str1=input(\"enter your string\").lower() \n",
    "        count=vowels_func(str1)\n",
    "        if count>0:\n",
    "            print(f\"{str1} has {count} vowel\") \n",
    "            speak(f\"{str1} has {count} vowel\") \n",
    "        else: \n",
    "            print(f\"{str1} has zero vowel\") \n",
    "            speak(f\"{str1} has zero vowel\") \n",
    "    except ValueError: \n",
    "        print(\"Invalid input,please enter valid input\") \n",
    "    except Exception as e:\n",
    "        print(\"An unncesessary error occured\")\n",
    "if __name__==\"__main__\": \n",
    "    main()\n",
    "        "
   ]
  },
  {
   "cell_type": "markdown",
   "id": "1ae928ca-67e4-4ff6-8733-14d2f2a7f838",
   "metadata": {},
   "source": [
    "8. Sum of Digits\n",
    " Write a function that takes an integer as input and returns the sum of its digits.\n",
    " Example: sum_of_digits(123) "
   ]
  },
  {
   "cell_type": "code",
   "execution_count": 15,
   "id": "8469b72b-2f26-44e0-aa90-cdbb70b8708b",
   "metadata": {},
   "outputs": [
    {
     "name": "stdin",
     "output_type": "stream",
     "text": [
      "enter your number: 5555\n"
     ]
    },
    {
     "name": "stdout",
     "output_type": "stream",
     "text": [
      "sum_of_digits:5555 is 20\n"
     ]
    }
   ],
   "source": [
    "def sum_digit(num):\n",
    "    sum=0\n",
    "    for i in str(num):\n",
    "        sum += int(i) \n",
    "    return sum\n",
    "def main(): \n",
    "    try:\n",
    "        num=int(input(\"enter your number:\"))\n",
    "        result=sum_digit(num)\n",
    "        print(f\"sum_of_digits:{num} is {result}\") \n",
    "    except ValueError: \n",
    "        print(\"Invalid input,please enter valid input\") \n",
    "    except Exception as e:\n",
    "        print(\"An unncesessary error occured\")\n",
    "if __name__==\"__main__\": \n",
    "    main()     "
   ]
  },
  {
   "cell_type": "markdown",
   "id": "81abd062-a7dc-4d2a-963d-77683a6ce0e8",
   "metadata": {},
   "source": [
    "9. Fibonacci Sequence (Iterative)\n",
    " Write a function that prints the first n numbers in the Fibonacci sequence.\n",
    " Use an iterative approach.\n",
    " Example\n",
    "Input: n = 6\n",
    "Expected Output: 0, 1, 1, 2, 3, 5\n",
    " Example\n",
    "Input: n = 1\n",
    "Expected Output: 0"
   ]
  },
  {
   "cell_type": "code",
   "execution_count": 1,
   "id": "51ecdaf2-3de5-45b6-b0a1-5c2285b75a08",
   "metadata": {},
   "outputs": [
    {
     "name": "stdin",
     "output_type": "stream",
     "text": [
      "enter your number: 6\n"
     ]
    },
    {
     "name": "stdout",
     "output_type": "stream",
     "text": [
      "[0, 1, 1, 2, 3, 5]\n"
     ]
    }
   ],
   "source": [
    "def fibonacci_sequence(num):\n",
    "    a,b=0,1\n",
    "    if num<0:\n",
    "        return False\n",
    "    sequence=[]\n",
    "    for i in range(1,num+1):\n",
    "        sequence.append(a)\n",
    "        a,b=b,a+b \n",
    "    return sequence\n",
    "def main(): \n",
    "    try:\n",
    "        num=int(input(\"enter your number:\")) \n",
    "        result=fibonacci_sequence(num)\n",
    "        if result:\n",
    "            print(fibonacci_sequence(num))\n",
    "        else:\n",
    "            print(\"expected output: 0\")\n",
    "    except ValueError: \n",
    "        print(\"Invalid input,please enter valid input\") \n",
    "    except Exception as e:\n",
    "        print(\"An unncesessary error occured\")\n",
    "if __name__==\"__main__\": \n",
    "    main()   \n"
   ]
  },
  {
   "cell_type": "markdown",
   "id": "d9389132-1f2e-40ab-ae5a-e4f4f8618064",
   "metadata": {},
   "source": [
    "q10 Remove Duplicates from a List\n",
    " Write a function that removes duplicates from a list while maintaining the original order.\n",
    " Example\n",
    "Input: [1, 3, 2, 3, 4, 1, 5]\n",
    "Expected Output: [1, 3, 2, 4, 5]\n",
    " Example\n",
    "Input: [4, 4, 4, 4]\n",
    "Expected Output: [4]"
   ]
  },
  {
   "cell_type": "code",
   "execution_count": 12,
   "id": "47ba9a9e-1bae-4f30-b604-13181c591410",
   "metadata": {},
   "outputs": [
    {
     "name": "stdin",
     "output_type": "stream",
     "text": [
      "enter your number: 4444\n"
     ]
    },
    {
     "name": "stdout",
     "output_type": "stream",
     "text": [
      "Expected output: [4]\n"
     ]
    }
   ],
   "source": [
    "#q10 Remove Duplicates from a List  Write a function that removes duplicates from a list while maintaining the original order.\n",
    "#  Example Input: [1, 3, 2, 3, 4, 1, 5] Expected Output: [1, 3, 2, 4, 5]  Example Input: [4, 4, 4, 4] Expected Output: [4]\n",
    "def remove_duplicates(num):\n",
    "    result=[]\n",
    "    for i in num: \n",
    "        if i not in result: \n",
    "            result.append(i)\n",
    "    return result      \n",
    "def main(): \n",
    "    try:\n",
    "        text=input(\"enter your number:\") \n",
    "        num=list(map(int,text))\n",
    "        result=remove_duplicates(num)\n",
    "        print(\"Expected output:\",result)\n",
    "    except ValueError: \n",
    "        print(\"Invalid input,please enter valid input\") \n",
    "    except Exception as e:\n",
    "        print(\"An unncesessary error occured\")\n",
    "if __name__==\"__main__\": \n",
    "    main()   \n"
   ]
  },
  {
   "cell_type": "code",
   "execution_count": null,
   "id": "68835ecb-3f55-4315-9b2b-7198e0b7a71a",
   "metadata": {},
   "outputs": [],
   "source": []
  },
  {
   "cell_type": "markdown",
   "id": "e2553de2-f98a-4644-8424-4913043f2ad4",
   "metadata": {},
   "source": [
    "11. Check for Leap Year\n",
    " Write a function to check if a given year is a leap year.\n",
    " A leap year is divisible by 4, but not by 100, unless also divisible by 400.\n",
    " Divisible by 4: If a year can be evenly divided by 4 (like 2020), it might be a leap year.\n",
    " Not Divisible by 100: However, if that year can also be evenly divided by 100 (like 1900),\n",
    "then it&#39;s not a leap year.\n",
    "\n",
    " Unless Divisible by 400: If the year is divisible by 100, it could still be a leap year if it can also\n",
    "be evenly divided by 400 (like 2000).\n",
    "\n",
    " Example\n",
    "Input: year = 2020\n",
    "Expected Output: True (2020 is a leap year)\n",
    " Example\n",
    "Input: year = 1900\n",
    "Expected Output: False (1900 is not a leap year)\n",
    " Example\n",
    "Input: year = 2000\n",
    "Expected Output: True (2000 is a leap year)"
   ]
  },
  {
   "cell_type": "code",
   "execution_count": 10,
   "id": "5338bad0-bb88-43e9-8e04-0138c1aaa939",
   "metadata": {},
   "outputs": [
    {
     "name": "stdin",
     "output_type": "stream",
     "text": [
      "enter your year: 1900\n"
     ]
    },
    {
     "name": "stdout",
     "output_type": "stream",
     "text": [
      "False(1900 is not a leap year)\n"
     ]
    }
   ],
   "source": [
    "def leap_year(num):\n",
    "    if num%100 == 0 and num%400 ==0: \n",
    "        return True \n",
    "    elif num % 4==0 and num%100 !=0:\n",
    "        return True \n",
    "    else:\n",
    "        return False \n",
    "def main():\n",
    "    try:\n",
    "        num=int(input(\"enter your year:\")) \n",
    "        result=leap_year(num) \n",
    "        if result: \n",
    "            print(f\"{result}({num} is a leap year)\") \n",
    "        else:\n",
    "            print(f\"{result}({num} is not a leap year)\") \n",
    "    except ValueError: \n",
    "        print(\"Invalid input,please enter valid input\") \n",
    "    except Exception as e:\n",
    "        print(\"An unncesessary error occured\")\n",
    "\n",
    "if __name__==\"__main__\": \n",
    "    main()  "
   ]
  },
  {
   "cell_type": "markdown",
   "id": "c832b7c7-efff-4cbb-8877-a79954b52715",
   "metadata": {},
   "source": [
    "12. Calculate Power without Using ** Operator\n",
    " Write a function that calculates x y (x raised to the power of y) without using Python’s power\n",
    "operator (**).\n",
    " Example\n",
    "Input: x = 2, y = 3\n",
    "Expected Output: 8 (since 2^3 =8)"
   ]
  },
  {
   "cell_type": "code",
   "execution_count": 17,
   "id": "396633e7-af47-42be-bb4b-e43199f37a0f",
   "metadata": {},
   "outputs": [
    {
     "name": "stdin",
     "output_type": "stream",
     "text": [
      "Enter the base (x):  2\n",
      "Enter the exponent (y):  3\n"
     ]
    },
    {
     "name": "stdout",
     "output_type": "stream",
     "text": [
      "Expected Output: 8 (since 2^3 = 8)\n"
     ]
    }
   ],
   "source": [
    "def power(x, y):\n",
    "    result = 1\n",
    "    for _ in range(y):  # multiply x, y times\n",
    "        result *= x\n",
    "    return result\n",
    "\n",
    "def main():\n",
    "    try:\n",
    "        x = int(input(\"Enter the base (x): \"))\n",
    "        y = int(input(\"Enter the exponent (y): \"))\n",
    "\n",
    "        result = power(x, y)\n",
    "        print(f\"Expected Output: {result} (since {x}^{y} = {result})\")\n",
    "    except ValueError:\n",
    "        print(\"Invalid input, please enter integers only.\")\n",
    "    except Exception as e:\n",
    "        print(\"An error occurred:\", e)\n",
    "\n",
    "if __name__ == \"__main__\":\n",
    "    main()\n"
   ]
  },
  {
   "cell_type": "markdown",
   "id": "d36b87b9-5360-49de-894a-2e0d133ef237",
   "metadata": {},
   "source": [
    "13. Generate List of Even Numbers\n",
    " Create a function that generates a list of even numbers up to a given number.\n",
    " Example\n",
    "Input: n = 10\n",
    "Expected Output: [2, 4, 6, 8, 10]\n",
    " Example\n",
    "Input: n = 7\n",
    "Expected Output: [2, 4, 6]"
   ]
  },
  {
   "cell_type": "code",
   "execution_count": 14,
   "id": "b5fdd77d-47e8-4988-a814-d6ae0b627dcc",
   "metadata": {},
   "outputs": [
    {
     "name": "stdin",
     "output_type": "stream",
     "text": [
      "enter your year: 7\n"
     ]
    },
    {
     "name": "stdout",
     "output_type": "stream",
     "text": [
      "Expected output:[2, 4, 6]\n"
     ]
    }
   ],
   "source": [
    "def even_list_generator(num): \n",
    "    even_list=[] \n",
    "    for i in range(1,num+1): \n",
    "        if i%2==0:\n",
    "            even_list.append(i) \n",
    "    return even_list \n",
    "def main():\n",
    "    try:\n",
    "        num=int(input(\"enter your year:\")) \n",
    "        result=even_list_generator(num) \n",
    "        print(f\"Expected output:{result}\") \n",
    "    except ValueError: \n",
    "        print(\"Invalid input,please enter valid input\") \n",
    "    except Exception as e:\n",
    "        print(\"An unncesessary error occured\")\n",
    "if __name__==\"__main__\": \n",
    "    main()  "
   ]
  },
  {
   "cell_type": "markdown",
   "id": "21754d5a-68e9-4bb3-b166-03af96d5eb03",
   "metadata": {},
   "source": [
    "14. Binary Search Implementation\n",
    " Write a function that performs binary search on a sorted list and returns the index of the\n",
    "target element or -1 if not found.\n",
    " Example\n",
    "Input: sorted_list = [1, 2, 3, 4, 5, 6], target = 4\n",
    "Expected Output: 3 (since 4 is at index 3)\n",
    " Example\n",
    "Input: sorted_list = [10, 20, 30, 40, 50], target = 25\n",
    "Expected Output: -1 (since 25 is not in the list)"
   ]
  },
  {
   "cell_type": "code",
   "execution_count": 13,
   "id": "2809cf7a-a361-433d-8292-19449af8e61a",
   "metadata": {},
   "outputs": [
    {
     "name": "stdin",
     "output_type": "stream",
     "text": [
      "enter your number(comma seperated): 1,2,3,4,5,6\n",
      "enter your indexing number: 4\n"
     ]
    },
    {
     "name": "stdout",
     "output_type": "stream",
     "text": [
      "Expected Output:3(since 4 is at index 3)\n"
     ]
    }
   ],
   "source": [
    "# Binary Search Implementation  Write a function that performs binary search on a sorted list and returns the index of the target element or -1 if not found.  Example Input: sorted_list = [1, 2, 3, 4, 5, 6], target = 4 \n",
    "#Expected Output: 3 (since 4 is at index 3)  Example Input: sorted_list = [10, 20, 30, 40, 50], target = 25 Expected Output: -1 (since 25 is not in the list)\n",
    "def index_element(num,target): \n",
    "    if target in num:\n",
    "        indexed=num.index(target) \n",
    "        return indexed \n",
    "    else:\n",
    "        return -1\n",
    "def main():\n",
    "    try:\n",
    "        text=input(\"enter your number(comma seperated):\") \n",
    "        target=int(input(\"enter your indexing number:\"))\n",
    "        list1=list(map(int,text.split(\",\"))) \n",
    "        result=index_element(list1,target)\n",
    "        if result != -1: \n",
    "            print(f\"Expected Output:{result}(since {target} is at index {result})\") \n",
    "        else:\n",
    "            print(f\"Expected Output:{result}(since {target} is not in the list)\") \n",
    "    except ValueError: \n",
    "         print(\"Invalid input,please enter valid input\") \n",
    "    except Exception as e:\n",
    "        print(\"An unncesessary error occured\")\n",
    "if __name__==\"__main__\": \n",
    "    main()  "
   ]
  },
  {
   "cell_type": "markdown",
   "id": "781cc474-6ef8-4145-bdf1-b634e66c9d49",
   "metadata": {},
   "source": [
    "15. Reverse Words in a Sentence\n",
    "\n",
    " Write a function to reverse the order of words in a sentence, keeping the words themselves\n",
    "intact (sentence should not be changed or altered in any way; they should remain exactly as\n",
    "they are,).\n",
    "Example\n",
    "Input:Python is fun\n",
    "Expected Output: fun is Python"
   ]
  },
  {
   "cell_type": "code",
   "execution_count": 16,
   "id": "aec51ed4-6cb8-4cfe-b145-bd22e26a9e03",
   "metadata": {},
   "outputs": [
    {
     "name": "stdin",
     "output_type": "stream",
     "text": [
      "Enter a sentence:  python is fun\n"
     ]
    },
    {
     "name": "stdout",
     "output_type": "stream",
     "text": [
      "Expected Output: fun is python\n"
     ]
    }
   ],
   "source": [
    "def reverse_sentence(text):\n",
    "    sentence=text.split()\n",
    "    reversed_word=[]\n",
    "    for i in range(len(sentence)-1,-1,-1): \n",
    "        reversed_word.append(sentence[i]) \n",
    "    return \" \".join(reversed_word) \n",
    "def main():\n",
    "    try:\n",
    "        text = input(\"Enter a sentence: \")\n",
    "        result = reverse_sentence(text)\n",
    "        print(\"Expected Output:\", result)\n",
    "    except ValueError: \n",
    "         print(\"Invalid input,please enter valid input\") \n",
    "    except Exception as e:\n",
    "        print(\"An unncesessary error occured\")\n",
    "if __name__ == \"__main__\":\n",
    "    main()"
   ]
  },
  {
   "cell_type": "code",
   "execution_count": null,
   "id": "65a3c092-78f6-409d-9894-c46f5128f3d0",
   "metadata": {},
   "outputs": [],
   "source": []
  },
  {
   "cell_type": "markdown",
   "id": "52f675bf-a153-492a-9ffe-1287b7aae938",
   "metadata": {},
   "source": [
    "16. Calculate GCD Using Euclidean Algorithm\n",
    " Write a function to find the Greatest Common Divisor (GCD) of two numbers using\n",
    "recursion.\n",
    " Example\n",
    "Input: a = 48, b = 18\n",
    "Expected Output: 6 (the GCD of 48 and 18 is 6)\n",
    " Example\n",
    "Input: a = 56, b = 98\n",
    "Expected Output: 14 (the GCD of 56 and 98 is 14)"
   ]
  },
  {
   "cell_type": "code",
   "execution_count": 6,
   "id": "66351970-d8e5-4500-8a11-651d9e76e368",
   "metadata": {},
   "outputs": [
    {
     "name": "stdin",
     "output_type": "stream",
     "text": [
      "enter your number1: 48\n",
      "enter your number2: 18\n"
     ]
    },
    {
     "name": "stdout",
     "output_type": "stream",
     "text": [
      "Expected output:6(the GCD of 48 and 18 is 6)\n"
     ]
    }
   ],
   "source": [
    "def greatest_comman_divisior(x,y): \n",
    "    if y==1:\n",
    "        return 1\n",
    "    while y != 0:\n",
    "        x,y = y,(x%y) \n",
    "    return x \n",
    "def main(): \n",
    "    try:\n",
    "        x=int(input(\"enter your number1:\")) \n",
    "        y=int(input(\"enter your number2:\")) \n",
    "        result=greatest_comman_divisior(x,y) \n",
    "        print(f\"Expected output:{result}(the GCD of {x} and {y} is {result})\")\n",
    "    except ValueError: \n",
    "        print(\"Invalid input,Enter valid input(numbers)\") \n",
    "    except Exception as e:\n",
    "        print(\"An unncessary error occured\")\n",
    "if __name__==\"__main__\": \n",
    "    main()"
   ]
  },
  {
   "cell_type": "markdown",
   "id": "2b0b05ca-1096-42c2-b3a7-f7b62dee5e15",
   "metadata": {},
   "source": [
    "q17.Convert Decimal to Binary\n",
    " Write a function to convert a given decimal number to its binary representation.\n",
    " Example\n",
    "Input: decimal = 10\n",
    "Expected Output: 1010 (the binary representation of 10 is 1010)\n",
    " Example\n",
    "Input: decimal = 5\n",
    "Expected Output: 101 (the binary representation of 5 is 101)"
   ]
  },
  {
   "cell_type": "code",
   "execution_count": 4,
   "id": "080b7a12-b60d-41ec-9e26-b211b7a15c7e",
   "metadata": {},
   "outputs": [
    {
     "name": "stdin",
     "output_type": "stream",
     "text": [
      "enter your number: 10\n"
     ]
    },
    {
     "name": "stdout",
     "output_type": "stream",
     "text": [
      "Expected output:1010(the binary representation of 10 is 1010)\n"
     ]
    }
   ],
   "source": [
    "def binary_converter(num): \n",
    "    if num==0:\n",
    "        return 0\n",
    "    binary=\"\"\n",
    "    while num>0:\n",
    "        binary=str(num%2)+ binary \n",
    "        num //= 2 \n",
    "    return binary \n",
    "def main(): \n",
    "    try:\n",
    "        num=int(input(\"enter your number:\"))\n",
    "        result=binary_converter(num) \n",
    "        print(f\"Expected output:{result}(the binary representation of {num} is {result})\")\n",
    "    except ValueError: \n",
    "        print(\"Invalid input,Enter valid input(numbers)\") \n",
    "    except Exception as e:\n",
    "        print(\"An unncessary error occured\")\n",
    "if __name__==\"__main__\": \n",
    "    main()"
   ]
  },
  {
   "cell_type": "markdown",
   "id": "e531bd94-f99e-4beb-907b-6ca0cf6622a0",
   "metadata": {},
   "source": [
    "q18.Factorial Using Recursion\n",
    " Write a recursive function to calculate the factorial of a given number.\n",
    "Example\n",
    "Input: n = 5\n",
    "Expected Output: 120 (since 5×4×3×2×1=120)\n",
    " Example\n",
    "Input: n = 0\n",
    "Expected Output: 1"
   ]
  },
  {
   "cell_type": "code",
   "execution_count": 5,
   "id": "124ea8a0-1560-4671-8cc9-57f43f06d2cc",
   "metadata": {},
   "outputs": [
    {
     "name": "stdin",
     "output_type": "stream",
     "text": [
      "enter your number: 5\n"
     ]
    },
    {
     "name": "stdout",
     "output_type": "stream",
     "text": [
      "Expected output:120(the factorial of 5 is 120 using recursive function)\n"
     ]
    }
   ],
   "source": [
    "def factorial_using_recursion(num): \n",
    "    if num == 0 or num ==1:\n",
    "        return 1\n",
    "    return num * factorial_using_recursion(num-1) \n",
    "def main(): \n",
    "    try:\n",
    "        num=int(input(\"enter your number:\"))\n",
    "        result=factorial_using_recursion(num) \n",
    "        print(f\"Expected output:{result}(the factorial of {num} is {result} using recursive function)\")\n",
    "    except ValueError: \n",
    "        print(\"Invalid input,Enter valid input(numbers)\") \n",
    "    except Exception as e:\n",
    "        print(\"An unncessary error occured\")\n",
    "if __name__==\"__main__\": \n",
    "    main()"
   ]
  },
  {
   "cell_type": "markdown",
   "id": "b1ce6661-7a04-48f5-99f0-d8996b9d22c9",
   "metadata": {},
   "source": [
    "19. Find Largest Element in a List Using for Loop\n",
    " Write a function to find the largest element in a list without using built-in max functions.\n",
    " Example\n",
    "Input: [3, 5, 7, 2, 8, 1]\n",
    "\n",
    "Expected Output: 8 (the largest element in the list is 8)\n",
    " Example\n",
    "Input: [-1, -5, -3, -4]\n",
    "Expected Output: -1 (the largest element in the list is -1)"
   ]
  },
  {
   "cell_type": "code",
   "execution_count": 14,
   "id": "ef989aeb-edd5-4041-98a3-57251d587906",
   "metadata": {},
   "outputs": [
    {
     "name": "stdin",
     "output_type": "stream",
     "text": [
      "enter your number(space seperated): 3 5 7 2 8 1\n"
     ]
    },
    {
     "name": "stdout",
     "output_type": "stream",
     "text": [
      "Expected output:8(the largest element in the list is 8)\n"
     ]
    }
   ],
   "source": [
    "def largest_element(list1): \n",
    "    largest=float(\"-inf\")\n",
    "    for i in list1:\n",
    "        if i>largest: \n",
    "            largest=i \n",
    "    return largest\n",
    "def main(): \n",
    "    try:\n",
    "        text=input(\"enter your number(space seperated):\")\n",
    "        list1=list(map(int,text.split()))\n",
    "        result=largest_element(list1) \n",
    "        print(f\"Expected output:{result}(the largest element in the list is {result})\")\n",
    "    except ValueError: \n",
    "        print(\"Invalid input,Enter valid input(numbers)\") \n",
    "    except Exception as e:\n",
    "        print(\"An unncessary error occured\")\n",
    "if __name__==\"__main__\": \n",
    "    main()"
   ]
  },
  {
   "cell_type": "markdown",
   "id": "897e3cd8-4443-4962-98c7-b9fe47e8a5fb",
   "metadata": {},
   "source": [
    "20. Count Occurrences of Each Character in a String\n",
    " Take a string as input and count the occurrences of each character.\n",
    " Example:\n",
    "Input: &quot;hello&quot;\n",
    "Expected Output: { &#39;h&#39;: 1, &#39;e&#39;: 1, &#39;l&#39;: 2, &#39;o&#39;: 1 }\n",
    " Example:\n",
    "Input: &quot;apple&quot;\n",
    "Expected Output: { &#39;a&#39;: 1, &#39;p&#39;: 2, &#39;l&#39;: 1, &#39;e&#39;: 1 }"
   ]
  },
  {
   "cell_type": "code",
   "execution_count": 20,
   "id": "bfde79e4-35a6-4ed4-b014-10faa31340b6",
   "metadata": {},
   "outputs": [
    {
     "name": "stdin",
     "output_type": "stream",
     "text": [
      "enter your string: hello\n"
     ]
    },
    {
     "name": "stdout",
     "output_type": "stream",
     "text": [
      "Expected output:{'h': 1, 'e': 1, 'l': 2, 'o': 1}\n"
     ]
    }
   ],
   "source": [
    "def count_occurrences(string):\n",
    "    occurrence={} \n",
    "    for i in string: \n",
    "        if i in occurrence: \n",
    "            occurrence[i] += 1 \n",
    "        else:\n",
    "            occurrence[i] = 1 \n",
    "    return occurrence \n",
    "def main(): \n",
    "    try:\n",
    "        string=input(\"enter your string:\") \n",
    "        result=count_occurrences(string)\n",
    "        print(f\"Expected output:{result}\")\n",
    "    except ValueError: \n",
    "        print(\"Invalid input,Enter valid input(numbers)\") \n",
    "    except Exception as e:\n",
    "        print(\"An unncessary error occured\")\n",
    "if __name__==\"__main__\": \n",
    "    main()"
   ]
  },
  {
   "cell_type": "markdown",
   "id": "5fc47e12-1d9c-4a4b-9f8a-2701e649846d",
   "metadata": {},
   "source": [
    "21. Find Intersection of Two Lists\n",
    " Write a function that returns the intersection of two lists without using set operations.\n",
    " Example:\n",
    "Input: list1 = [1, 2, 3, 4, 5], list2 = [4, 5, 6, 7, 8]\n",
    "Expected Output: [4, 5]\n",
    " Example:\n",
    "Example:\n",
    "Input: list1 = [apple,banana,cherry], list2 = [cherry,date,apple]\n",
    "Expected Output: [apple,cherry]"
   ]
  },
  {
   "cell_type": "code",
   "execution_count": 21,
   "id": "a25c0528-293a-4955-a048-b47b90dbff2e",
   "metadata": {},
   "outputs": [
    {
     "name": "stdin",
     "output_type": "stream",
     "text": [
      "enter your list1: apple banana cherry\n",
      "enter your list2: cherry date apple\n"
     ]
    },
    {
     "name": "stdout",
     "output_type": "stream",
     "text": [
      "expected output:['apple', 'cherry']\n"
     ]
    }
   ],
   "source": [
    "def  intersection_function(list1,list2):\n",
    "    expected_list=[]\n",
    "    for i in list1:\n",
    "        for j in list2: \n",
    "            if i==j:\n",
    "                expected_list.append(i)\n",
    "    return expected_list\n",
    "def main():\n",
    "    try:\n",
    "        text1=input(\"enter your list1:\") \n",
    "        list1=text1.split()\n",
    "        text2=input(\"enter your list2:\") \n",
    "        list2=text2.split() \n",
    "        result=intersection_function(list1,list2) \n",
    "        print(f\"expected output:{result}\")\n",
    "    except ValueError: \n",
    "         print(\"Invalid input,please enter valid input\") \n",
    "    except Exception as e:\n",
    "        print(\"An unncesessary error occured\")\n",
    "if __name__ == \"__main__\":\n",
    "    main()"
   ]
  },
  {
   "cell_type": "markdown",
   "id": "be80024e-e95c-4d8b-bab7-b59b937f207e",
   "metadata": {},
   "source": [
    "q22.Remove All Whitespace from a String\n",
    " Write a function that removes all whitespace characters (spaces, tabs, newlines) from a given string.\n",
    " Example:\n",
    "Input: &quot;Hello, World!&quot;\n",
    "Expected Output: &quot;Hello,World!&quot;\n",
    " Example:\n",
    "Input: &quot; Python is fun &quot;\n",
    "Expected Output: &quot;Pythonisfun&quot;"
   ]
  },
  {
   "cell_type": "code",
   "execution_count": 30,
   "id": "4c55df06-310b-41c1-8705-7b4365a56d47",
   "metadata": {},
   "outputs": [
    {
     "name": "stdin",
     "output_type": "stream",
     "text": [
      "enter your string: python is fun\n"
     ]
    },
    {
     "name": "stdout",
     "output_type": "stream",
     "text": [
      "expected output:''pythonisfun''\n"
     ]
    }
   ],
   "source": [
    "def remove_whitespace(string):\n",
    "    \n",
    "    return \"\".join(string.split()) \n",
    "def main():\n",
    "    try:\n",
    "        string=input(\"enter your string:\")\n",
    "        result=remove_whitespace(string)\n",
    "        print(f\"expected output:\\''{result}\\''\")\n",
    "    except ValueError: \n",
    "         print(\"Invalid input,please enter valid input\") \n",
    "    except Exception as e:\n",
    "        print(\"An unncesessary error occured\")\n",
    "if __name__ == \"__main__\":\n",
    "    main()"
   ]
  },
  {
   "cell_type": "markdown",
   "id": "b695c3a5-fb5c-4f2b-8dd4-b84cdb7982df",
   "metadata": {},
   "source": [
    "q23.Calculate Sum of a List of Numbers Using Recursion\n",
    " Write a recursive function to calculate the sum of a list of numbers.\n",
    " Example:\n",
    "Input: [1, 2, 3, 4, 5]\n",
    "Expected Output: 15\n",
    " Example:\n",
    "Input: [10, 20, 30]\n",
    "Expected Output: 60"
   ]
  },
  {
   "cell_type": "code",
   "execution_count": 32,
   "id": "22345921-1725-4056-a35a-cc80331031a1",
   "metadata": {},
   "outputs": [
    {
     "name": "stdin",
     "output_type": "stream",
     "text": [
      "enter your list elements(space seperated) 10 20 30\n"
     ]
    },
    {
     "name": "stdout",
     "output_type": "stream",
     "text": [
      "expected output:60\n"
     ]
    }
   ],
   "source": [
    "def sum_using_recursive(list1): \n",
    "    if not list1: \n",
    "        return 0\n",
    "    else:\n",
    "        return list1[0] + sum_using_recursive(list1[1:])\n",
    "def main():\n",
    "    try:\n",
    "        text=input(\"enter your list elements(space seperated)\") \n",
    "        list1=list(map(int,text.split())) \n",
    "        result=sum_using_recursive(list1)\n",
    "        print(f\"expected output:{result}\")\n",
    "    except ValueError: \n",
    "         print(\"Invalid input,please enter valid input\") \n",
    "    except Exception as e:\n",
    "        print(\"An unncesessary error occured\")\n",
    "if __name__ == \"__main__\":\n",
    "    main()\n"
   ]
  },
  {
   "cell_type": "markdown",
   "id": "66b0fc0b-2354-4777-896d-b19c3296bf97",
   "metadata": {},
   "source": [
    "24. Find All Prime Numbers up to n\n",
    " Write a function that returns a list of all prime numbers up to a given number n.\n",
    " Example:\n",
    "Input: n = 10\n",
    "Expected Output: [2, 3, 5, 7]\n",
    " Example:\n",
    "Input: n = 20\n",
    "Expected Output: [2, 3, 5, 7, 11, 13, 17, 19]"
   ]
  },
  {
   "cell_type": "code",
   "execution_count": null,
   "id": "cffb3cf4-4a01-48a5-b673-171f0a465fb9",
   "metadata": {},
   "outputs": [],
   "source": [
    "def prime_numbers(num):\n",
    "    prime_list=[]\n",
    "    if num<=1:   \n",
    "        return f\"{num} is not a prime number\"\n",
    "    for i in range(2,num): \n",
    "        is_prime=True\n",
    "        for j in range(2,int(i**0.5)+1): \n",
    "            if i%j==0: \n",
    "                is_prime=False\n",
    "                break \n",
    "        if is_prime: \n",
    "            prime_list.append(i) \n",
    "    return prime_list   \n",
    "def main():\n",
    "    try:\n",
    "        num=int(input(\"enter your number:\"))\n",
    "        result=prime_numbers(num)\n",
    "        print(f\"expected output:{result}\")\n",
    "    except ValueError: \n",
    "         print(\"Invalid input,please enter valid input\") \n",
    "    except Exception as e:\n",
    "        print(\"An unncesessary error occured\")\n",
    "if __name__ == \"__main__\":\n",
    "    main()"
   ]
  },
  {
   "cell_type": "markdown",
   "id": "a040ea25-2098-489c-97d7-e8d1e13f0720",
   "metadata": {},
   "source": [
    "25. Merge Two Sorted Lists\n",
    " Write a function to merge two sorted lists into a single sorted list.\n",
    " Example:\n",
    "Input: list1 = [1, 3, 5], list2 = [2, 4, 6]\n",
    "Expected Output: [1, 2, 3, 4, 5, 6]\n",
    " Example:\n",
    "Input: list1 = [10, 20, 30], list2 = [15, 25, 35]\n",
    "Expected Output: [10, 15, 20, 25, 30, 35]"
   ]
  },
  {
   "cell_type": "code",
   "execution_count": 36,
   "id": "c9e92fdd-5c4d-437f-be97-f80c4478a662",
   "metadata": {},
   "outputs": [
    {
     "name": "stdin",
     "output_type": "stream",
     "text": [
      "enter list1 elements(space seperated): 10 20 30\n",
      "enter list2 elements(space seperated): 15 25 35\n"
     ]
    },
    {
     "name": "stdout",
     "output_type": "stream",
     "text": [
      "expected output:[10, 15, 20, 25, 30, 35]\n"
     ]
    }
   ],
   "source": [
    "def list_merge(list1,list2): \n",
    "    for i in list2: \n",
    "        list1.append(i) \n",
    "    return sorted(list1) \n",
    "def main(): \n",
    "    try: \n",
    "        text1=input(\"enter list1 elements(space seperated):\") \n",
    "        list1=list(map(int,text1.split()))\n",
    "        text2=input(\"enter list2 elements(space seperated):\") \n",
    "        list2=list(map(int,text2.split())) \n",
    "        result=list_merge(list1,list2) \n",
    "        print(f\"expected output:{result}\")\n",
    "    except ValueError: \n",
    "         print(\"Invalid input,please enter valid input\") \n",
    "    except Exception as e:\n",
    "        print(\"An unncesessary error occured\")\n",
    "if __name__ == \"__main__\":\n",
    "    main()"
   ]
  },
  {
   "cell_type": "markdown",
   "id": "cc6136f1-e093-40c7-ab5a-a1316e9ca5c7",
   "metadata": {},
   "source": [
    "Check if List is Sorted\n",
    " Write a function that checks if a list is sorted in ascending order.\n",
    " Example:\n",
    "Input: [1, 2, 3, 4, 5]\n",
    "Expected Output: True\n",
    " Example:\n",
    "Input: [5, 3, 4, 2, 1]\n",
    "Expected Output: False"
   ]
  },
  {
   "cell_type": "code",
   "execution_count": 9,
   "id": "81ca02bc-caba-48fa-8d6d-b2f5825d30b3",
   "metadata": {},
   "outputs": [
    {
     "name": "stdin",
     "output_type": "stream",
     "text": [
      "enter your list elements(space seperated): 1 2 3 4 5\n"
     ]
    },
    {
     "name": "stdout",
     "output_type": "stream",
     "text": [
      "Expected Output:True\n"
     ]
    }
   ],
   "source": [
    "def list_sorted_check(list1): \n",
    "    if sorted(list1) == list1:\n",
    "        return True\n",
    "    else: \n",
    "        return False\n",
    "def main(): \n",
    "    try:\n",
    "        text=input(\"enter your list elements(space seperated):\") \n",
    "        list1=list(map(int,text.split())) \n",
    "        result=list_sorted_check(list1)\n",
    "        print(f\"Expected Output:{result}\")\n",
    "    except ValueError: \n",
    "         print(\"Invalid input,please enter valid input\") \n",
    "    except Exception as e:\n",
    "        print(\"An unncesessary error occured\")\n",
    "if __name__ == \"__main__\":\n",
    "    main()"
   ]
  },
  {
   "cell_type": "markdown",
   "id": "917565de-18d9-485c-a376-96b07d539e0b",
   "metadata": {},
   "source": [
    "28. Find Missing Number in Consecutive List\n",
    " Write a function to find the missing number in a list of consecutive numbers.\n",
    " Example:\n",
    "Input: [1, 2, 3, 5, 6]\n",
    "Expected Output: 4\n",
    " Example:\n",
    "Input: [10, 11, 12, 14, 15]\n",
    "Expected Output: 13"
   ]
  },
  {
   "cell_type": "code",
   "execution_count": 14,
   "id": "f06e8228-22c8-4685-916c-fdb0f0d46c78",
   "metadata": {},
   "outputs": [
    {
     "name": "stdin",
     "output_type": "stream",
     "text": [
      "enter your list elements(space seperated): 10 11 12 14 15\n"
     ]
    },
    {
     "name": "stdout",
     "output_type": "stream",
     "text": [
      "Expected Output:[13]\n"
     ]
    }
   ],
   "source": [
    "def missing_number_finder(list1):\n",
    "    missing_number=[]\n",
    "    for num in range(min(list1),max(list1)+1): \n",
    "        if num not in list1: \n",
    "            missing_number.append(num) \n",
    "    return missing_number\n",
    "def main(): \n",
    "    try:\n",
    "        text=input(\"enter your list elements(space seperated):\") \n",
    "        list1=list(map(int,text.split())) \n",
    "        result=missing_number_finder(list1)\n",
    "        print(f\"Expected Output:{result}\")\n",
    "    except ValueError: \n",
    "         print(\"Invalid input,please enter valid input\") \n",
    "    except Exception as e:\n",
    "        print(\"An unncesessary error occured\")\n",
    "if __name__ == \"__main__\":\n",
    "    main()"
   ]
  },
  {
   "cell_type": "markdown",
   "id": "6743896d-977d-40f9-ad14-0c36215d2c99",
   "metadata": {},
   "source": [
    "29. Calculate Sum of Squares of First n Natural Numbers\n",
    " Write a function to calculate the sum of squares of the first n natural numbers.\n",
    " Example:\n",
    "Input: n = 3\n",
    "Expected Output: 14\n",
    "(Calculation: 1 2 + 2 2 + 3 2 =14)"
   ]
  },
  {
   "cell_type": "code",
   "execution_count": 15,
   "id": "9e4fdbd2-c368-4fd8-b912-5655f9c691b3",
   "metadata": {},
   "outputs": [
    {
     "name": "stdin",
     "output_type": "stream",
     "text": [
      "enter your number: 3\n"
     ]
    },
    {
     "name": "stdout",
     "output_type": "stream",
     "text": [
      "Expected Output:14\n"
     ]
    }
   ],
   "source": [
    "def sum_square(num): \n",
    "    sum=0\n",
    "    for i in range(1,num+1): \n",
    "        sum += i**2 \n",
    "    return sum \n",
    "def main(): \n",
    "    try:\n",
    "        num=int(input(\"enter your number:\")) \n",
    "        result=sum_square(num)\n",
    "        print(f\"Expected Output:{result}\")\n",
    "    except ValueError: \n",
    "         print(\"Invalid input,please enter valid input\") \n",
    "    except Exception as e:\n",
    "        print(\"An unncesessary error occured\")\n",
    "if __name__ == \"__main__\":\n",
    "    main()"
   ]
  },
  {
   "cell_type": "markdown",
   "id": "ac5c9021-b345-4532-910d-1a4d02243af7",
   "metadata": {},
   "source": [
    "30. Reverse Integer\n",
    " Write a function that takes an integer and returns its digits reversed.\n",
    " Example:\n",
    "Input: 12345\n",
    "Expected Output: 54321\n",
    " Example:\n",
    "Input: -6789\n",
    "Expected Output: -9876"
   ]
  },
  {
   "cell_type": "code",
   "execution_count": 16,
   "id": "af847b90-ba92-4efc-9c31-80aeb550ddbd",
   "metadata": {},
   "outputs": [
    {
     "name": "stdin",
     "output_type": "stream",
     "text": [
      "enter your number: 12345\n"
     ]
    },
    {
     "name": "stdout",
     "output_type": "stream",
     "text": [
      "Expected Output:54321 \n"
     ]
    }
   ],
   "source": [
    "def reverse_digit(num): \n",
    "    string=str(num) \n",
    "    reverse_num=\" \"\n",
    "    for i in string:\n",
    "        reverse_num =i + reverse_num \n",
    "    return str(reverse_num)\n",
    "def main(): \n",
    "    try:\n",
    "        num=int(input(\"enter your number:\")) \n",
    "        result=reverse_digit(num)\n",
    "        print(f\"Expected Output:{result}\")\n",
    "    except ValueError: \n",
    "         print(\"Invalid input,please enter valid input\") \n",
    "    except Exception as e:\n",
    "        print(\"An unncesessary error occured\")\n",
    "if __name__ == \"__main__\":\n",
    "    main()"
   ]
  },
  {
   "cell_type": "markdown",
   "id": "693b0e7f-1576-4ddf-badc-c2f8762dd968",
   "metadata": {},
   "source": [
    "q32.Find the Longest Word in a Sentence\n",
    " Write a function that finds and returns the longest word in a given sentence.\n",
    "Example:\n",
    "Input: &quot;Python programming is fun and interesting&quot;\n",
    "Expected Output: &quot;programming&quot;"
   ]
  },
  {
   "cell_type": "code",
   "execution_count": 18,
   "id": "a970e352-0897-4b28-b004-82920ef94fb3",
   "metadata": {},
   "outputs": [
    {
     "name": "stdin",
     "output_type": "stream",
     "text": [
      "enter your sentence Python programming is fun and interesting\n"
     ]
    },
    {
     "name": "stdout",
     "output_type": "stream",
     "text": [
      "Expected Output:programming\n"
     ]
    }
   ],
   "source": [
    "def longest_word_finder(list1):\n",
    "    longest_word=\" \"\n",
    "    for i in list1:\n",
    "        if len(i) > len(longest_word): \n",
    "            longest_word=i \n",
    "    return longest_word\n",
    "def main(): \n",
    "    try:\n",
    "        text=input(\"enter your sentence\") \n",
    "        list1=text.split() \n",
    "        result=longest_word_finder(list1)\n",
    "        print(f\"Expected Output:{result}\")\n",
    "    except ValueError: \n",
    "         print(\"Invalid input,please enter valid input\") \n",
    "    except Exception as e:\n",
    "        print(\"An unncesessary error occured\")\n",
    "if __name__ == \"__main__\":\n",
    "    main()        "
   ]
  },
  {
   "cell_type": "markdown",
   "id": "d099442b-71e6-473c-afdc-5caed4ae132b",
   "metadata": {},
   "source": [
    "33. Check if a Number is a Power of 2\n",
    " Write a function that checks if a given number is a power of 2.\n",
    " Example:\n",
    "Input: 16\n",
    "Expected Output: True\n",
    "(Explanation: 2 4 =16)\n",
    " Example:\n",
    "Input: 18\n",
    "Expected Output: False\n",
    "(Explanation: 18 is not a power of 2)"
   ]
  },
  {
   "cell_type": "code",
   "execution_count": 21,
   "id": "f1d21d5d-01ae-4085-be3e-045b6318f088",
   "metadata": {},
   "outputs": [
    {
     "name": "stdin",
     "output_type": "stream",
     "text": [
      "enter your number: 16\n"
     ]
    },
    {
     "name": "stdout",
     "output_type": "stream",
     "text": [
      "Expected Output:True (Explanation: 2^4=16)\n"
     ]
    }
   ],
   "source": [
    "def power_number_finder(num):\n",
    "    if num<=0: \n",
    "        return f\"False (Explanation: {num} is not a power of 2)\" \n",
    "    i=0 \n",
    "    while 2**i<=num: \n",
    "        if 2**i==num:\n",
    "            return f\"True (Explanation: 2^{i}={num})\" \n",
    "        i += 1 \n",
    "    else: \n",
    "        return f\"False (Explanation: {num} is not a power of 2)\"\n",
    "def main(): \n",
    "    try:\n",
    "        num=int(input(\"enter your number:\")) \n",
    "        result=power_number_finder(num)\n",
    "        print(f\"Expected Output:{result}\")\n",
    "    except ValueError: \n",
    "         print(\"Invalid input,please enter valid input\") \n",
    "    except Exception as e:\n",
    "        print(\"An unncesessary error occured\")\n",
    "if __name__ == \"__main__\":\n",
    "    main()   \n",
    "        "
   ]
  },
  {
   "cell_type": "markdown",
   "id": "dbb561ca-d6df-4fac-b82d-9aee19d87a44",
   "metadata": {},
   "source": [
    "34. Flatten a Nested List\n",
    " Write a function to flatten a list that contains nested lists of integers.\n",
    " Example:\n",
    "Input: [1, [2, [3, 4], 5], 6]\n",
    "\n",
    "Expected Output: [1, 2, 3, 4, 5, 6]\n",
    " Example:\n",
    "Input: [[1, 2], [3, [4, 5]], 6]\n",
    "Expected Output: [1, 2, 3, 4, 5, 6]"
   ]
  },
  {
   "cell_type": "code",
   "execution_count": 2,
   "id": "3d955ad9-45a7-494f-b86e-1accc02f7262",
   "metadata": {},
   "outputs": [
    {
     "name": "stdin",
     "output_type": "stream",
     "text": [
      "enter your nested list: [[1, 2], [3, [4, 5]], 6]\n"
     ]
    },
    {
     "name": "stdout",
     "output_type": "stream",
     "text": [
      "Expected Output:[1, 2, 3, 4, 5, 6]\n"
     ]
    }
   ],
   "source": [
    "def flatten_list(nested_list): \n",
    "    flat_list=[] \n",
    "    for item in nested_list: \n",
    "        if isinstance(item,list): \n",
    "            flat_list.extend(flatten_list(item)) \n",
    "        else:\n",
    "            flat_list.append(item) \n",
    "    return flat_list \n",
    "def main(): \n",
    "    try:\n",
    "        text=input(\"enter your nested list:\") \n",
    "        nested_list=eval(text)\n",
    "        result=flatten_list(nested_list)\n",
    "        print(f\"Expected Output:{result}\")\n",
    "    except ValueError: \n",
    "         print(\"Invalid input,please enter valid input\") \n",
    "    except Exception as e:\n",
    "        print(\"An unncesessary error occured\")\n",
    "if __name__ == \"__main__\":\n",
    "    main()   "
   ]
  },
  {
   "cell_type": "markdown",
   "id": "736e677a-1ccd-479b-a841-9d89ad7150ef",
   "metadata": {},
   "source": [
    "35. Find Pairs with Given Sum in a List\n",
    " Write a function to find all pairs in a list that sum up to a given number.\n",
    " Example\n",
    " Input:\n",
    "List: [1, 2, 3, 4, 5, 6]\n",
    "Target Sum: 7\n",
    " Expected Output:\n",
    "[(1, 6), (2, 5), (3, 4)]\n",
    "In this example, the pairs (1, 6), (2, 5), and (3, 4) all add up to the target sum of 7."
   ]
  },
  {
   "cell_type": "code",
   "execution_count": 5,
   "id": "b00fc5db-49ba-493e-9932-fe47ea096fba",
   "metadata": {},
   "outputs": [
    {
     "name": "stdin",
     "output_type": "stream",
     "text": [
      "enter your list element(space seperated): 1 2 3 4 5 6\n",
      "enter your target number: 7\n"
     ]
    },
    {
     "name": "stdout",
     "output_type": "stream",
     "text": [
      "Expected Output:[(1, 6), (2, 5), (3, 4)]\n"
     ]
    }
   ],
   "source": [
    "def sum_list_finder(target,list1): \n",
    "    pair=[]\n",
    "    n=len(list1)  \n",
    "    for i in range(n):\n",
    "        for j in range(i+1,n): \n",
    "            if list1[i]+list1[j]==target: \n",
    "                pair.append((list1[i],list1[j]))\n",
    "    return pair \n",
    "def main(): \n",
    "    try:\n",
    "        text=input(\"enter your list element(space seperated):\") \n",
    "        target=int(input(\"enter your target number:\")) \n",
    "        list1=list(map(int,text.split()))\n",
    "        result=sum_list_finder(target,list1)\n",
    "        print(f\"Expected Output:{result}\")\n",
    "    except ValueError: \n",
    "         print(\"Invalid input,please enter valid input\") \n",
    "    except Exception as e:\n",
    "        print(\"An unncesessary error occured\")\n",
    "if __name__ == \"__main__\":\n",
    "    main()   "
   ]
  },
  {
   "cell_type": "markdown",
   "id": "7e1448f7-d0c1-4900-a4ae-7e04ed8ac4c1",
   "metadata": {},
   "source": [
    "36. Check if Two Strings are Rotations of Each Other\n",
    " Write a function to check if one string is a rotation of another.\n",
    " Example: “abcd” and “dabc” are rotations.\n",
    "To understand why, here’s how rotation works in this context:\n",
    "If you rotate &quot;abcd&quot; by shifting its characters cyclically (moving some characters from the\n",
    "start to the end), you get:\n",
    " . Rotate by 1 position: &quot;bcda&quot;(remove first char and put it at the end)\n",
    " . Rotate by 2 positions: &quot;cdab&quot; (remove first 2 char and put it at the end)\n",
    " . Rotate by 3 positions: &quot;dabc&quot; (remove first 3 char and put it at end)"
   ]
  },
  {
   "cell_type": "code",
   "execution_count": 6,
   "id": "302244b3-b1ce-4bb2-8458-463222b91c0c",
   "metadata": {},
   "outputs": [
    {
     "name": "stdin",
     "output_type": "stream",
     "text": [
      "Enter the first string:  abcd\n",
      "Enter the second string:  dabc\n"
     ]
    },
    {
     "name": "stdout",
     "output_type": "stream",
     "text": [
      "Are the strings rotations of each other? True\n"
     ]
    }
   ],
   "source": [
    "def rotation_check(str1,str2): \n",
    "    if len(str1) != len(str2): \n",
    "        return False \n",
    "    temp=str1+str1 \n",
    "    return str2 in temp\n",
    "def main():\n",
    "    try:\n",
    "        str1 = input(\"Enter the first string: \")\n",
    "        str2 = input(\"Enter the second string: \")\n",
    "        result = rotation_check(str1, str2)\n",
    "        print(f\"Are the strings rotations of each other? {result}\")\n",
    "    except ValueError: \n",
    "         print(\"Invalid input,please enter valid input\") \n",
    "    except Exception as e:\n",
    "        print(\"An unncesessary error occured\")\n",
    "if __name__ == \"__main__\":\n",
    "    main()      "
   ]
  },
  {
   "cell_type": "markdown",
   "id": "df55455d-1f4e-4fc6-bc15-9c2005cf6109",
   "metadata": {},
   "source": [
    "38. Convert List of Tuples to Dictionary\n",
    " Write a function to convert a list of tuples into a dictionary.\n",
    "Example:\n",
    " Input:\n",
    "[(‘a’, 1), (‘b’, 2), (‘c’, 3), (‘d’, 4)]\n",
    " Expected Output:\n",
    "{&#39;a&#39;: 1, &#39;b&#39;: 2, &#39;c&#39;: 3, &#39;d&#39;: 4}"
   ]
  },
  {
   "cell_type": "code",
   "execution_count": 11,
   "id": "2d21d65b-788a-4125-95c2-7c8f846c85cc",
   "metadata": {},
   "outputs": [
    {
     "name": "stdin",
     "output_type": "stream",
     "text": [
      "enter your list of tuples: [('a',1),('b',2),('c',3),('d',4)]\n"
     ]
    },
    {
     "name": "stdout",
     "output_type": "stream",
     "text": [
      "Expected output:{'a': 1, 'b': 2, 'c': 3, 'd': 4}\n"
     ]
    }
   ],
   "source": [
    "def dict_converter(list1): \n",
    "    dict1={}\n",
    "    for item in list1:\n",
    "        key,value=item \n",
    "        dict1[key]=value\n",
    "    return dict1 \n",
    "def main():\n",
    "    try:\n",
    "        text=input(\"enter your list of tuples:\") \n",
    "        list1=eval(text) \n",
    "        result=dict_converter(list1) \n",
    "        print(f\"Expected output:{result}\")\n",
    "    except ValueError: \n",
    "         print(\"Invalid input,please enter valid input\") \n",
    "    except Exception as e:\n",
    "        print(\"An unncesessary error occured\")\n",
    "if __name__ == \"__main__\":\n",
    "    main() "
   ]
  },
  {
   "cell_type": "markdown",
   "id": "cb525c93-5aba-493a-a1d8-5f05a1856616",
   "metadata": {},
   "source": [
    "q39.Write a function to sort a dictionary by its values.\n",
    "Example:\n",
    " Input:\n",
    "{&#39;apple&#39;: 5, &#39;banana&#39;: 2, &#39;cherry&#39;: 8, &#39;date&#39;: 3}\n",
    " Expected Output (sorted by values in ascending order):\n",
    "{&#39;banana&#39;: 2, &#39;date&#39;: 3, &#39;apple&#39;: 5, &#39;cherry&#39;: 8}"
   ]
  },
  {
   "cell_type": "code",
   "execution_count": 6,
   "id": "906e95d6-90ac-4a3b-a9e4-9b90977eda82",
   "metadata": {},
   "outputs": [
    {
     "name": "stdin",
     "output_type": "stream",
     "text": [
      "enter your dict value like({x:y,z:c}): {'apple': 5, 'banana': 2, 'cherry': 8, 'date': 3}\n"
     ]
    },
    {
     "name": "stdout",
     "output_type": "stream",
     "text": [
      "Expected Output(sorted by values in ascending order):{'banana': 2, 'date': 3, 'apple': 5, 'cherry': 8}\n"
     ]
    }
   ],
   "source": [
    "def dict_sort_value(dict1): \n",
    "    sorted_items=sorted(dict1.items(),key=lambda x: x[1]) \n",
    "    sorted_dict=dict(sorted_items)\n",
    "    return sorted_dict \n",
    "def main(): \n",
    "    try:\n",
    "        dict1=eval(input(\"enter your dict value like({x:y,z:c}):\")) \n",
    "        result=dict_sort_value(dict1) \n",
    "        print(f\"Expected Output(sorted by values in ascending order):{result}\")\n",
    "    except ValueError: \n",
    "         print(\"Invalid input,please enter valid input\") \n",
    "    except Exception as e:\n",
    "        print(\"An unncesessary error occured\")\n",
    "if __name__ == \"__main__\":\n",
    "    main() "
   ]
  },
  {
   "cell_type": "markdown",
   "id": "319fa03e-1443-4fe9-837d-9aa26f8db597",
   "metadata": {},
   "source": [
    "39. Find the Median of a List of Numbers\n",
    " Write a function to calculate the median of a list of numbers.\n",
    "Example:\n",
    " Input:\n",
    "[1, 3, 5, 7, 9]\n",
    "Expected Output:\n",
    "5\n",
    " Input:\n",
    "[2, 4, 6, 8]\n",
    "\n",
    "Expected Output:"
   ]
  },
  {
   "cell_type": "code",
   "execution_count": 8,
   "id": "573ea0c1-569c-491d-90ec-0703fa55a5db",
   "metadata": {},
   "outputs": [
    {
     "name": "stdin",
     "output_type": "stream",
     "text": [
      "enter your list elements like[1,5,5,5,6]: [1, 3, 5, 7, 9]\n"
     ]
    },
    {
     "name": "stdout",
     "output_type": "stream",
     "text": [
      "Expected Output:5\n"
     ]
    }
   ],
   "source": [
    "def median_list(list1): \n",
    "    list1.sort() \n",
    "    lenght=len(list1) \n",
    "    mid=lenght//2 \n",
    "    if lenght%2==0: \n",
    "        return (list1[mid-1]+list1[mid])/2 \n",
    "    else: \n",
    "        return list1[mid] \n",
    "def main(): \n",
    "    try:\n",
    "        list1=eval(input(\"enter your list elements like[1,5,5,5,6]:\")) \n",
    "        result=median_list(list1) \n",
    "        print(f\"Expected Output:{result}\")\n",
    "    except ValueError: \n",
    "         print(\"Invalid input,please enter valid input\") \n",
    "    except Exception as e:\n",
    "        print(\"An unncesessary error occured\")\n",
    "if __name__ == \"__main__\":\n",
    "    main()"
   ]
  },
  {
   "cell_type": "markdown",
   "id": "16dc768c-f386-4f3f-92aa-5f1730f77774",
   "metadata": {},
   "source": [
    "41. Generate a List of Prime Numbers Using Sieve of Eratosthenes\n",
    " Write a function to generate all prime numbers up to a given number using the Sieve of\n",
    "Eratosthenes.\n",
    "Example:\n",
    " Input:\n",
    "n = 20\n",
    "Expected Output:\n",
    "[2, 3, 5, 7, 11, 13, 17, 19]"
   ]
  },
  {
   "cell_type": "markdown",
   "id": "9b3512ad-0fcc-4adb-84a7-9e286229e752",
   "metadata": {},
   "source": [
    "42. Convert Binary to Decimal\n",
    " Write a function to convert a binary number (as a string) to a decimal.\n",
    "Example:\n",
    " Input:\n",
    "&quot;1011&quot;\n",
    "Expected Output:\n",
    "11"
   ]
  },
  {
   "cell_type": "code",
   "execution_count": 11,
   "id": "f2d2ecc3-3021-49b6-8963-40ca6c59efa2",
   "metadata": {},
   "outputs": [
    {
     "name": "stdin",
     "output_type": "stream",
     "text": [
      "enter your binary number 1011\n"
     ]
    },
    {
     "name": "stdout",
     "output_type": "stream",
     "text": [
      "Expected Output:11\n"
     ]
    }
   ],
   "source": [
    "def binary_dec(str1): \n",
    "    decimal=int(str1,2) \n",
    "    return decimal \n",
    "def main(): \n",
    "    try:\n",
    "        str1=input(\"enter your binary number\")\n",
    "        result=binary_dec(str1)\n",
    "        print(f\"Expected Output:{result}\")\n",
    "    except ValueError: \n",
    "         print(\"Invalid input,please enter valid input\") \n",
    "    except Exception as e:\n",
    "        print(\"An unncesessary error occured\")\n",
    "if __name__ == \"__main__\":\n",
    "    main()"
   ]
  },
  {
   "cell_type": "markdown",
   "id": "3855b57b-ce57-4aea-8aa8-5bb97e677638",
   "metadata": {},
   "source": [
    "43. Check if Subsequence Exists in List\n",
    "\n",
    " Write a function to check if a smaller list is a subsequence of a larger list.\n",
    "Example:\n",
    " Input:\n",
    "larger_list = [1, 3, 5, 7, 9]\n",
    "smaller_list = [3, 7]\n",
    "Expected Output:\n",
    "True\n",
    " Input:\n",
    "larger_list = [1, 3, 5, 7, 9]\n",
    "smaller_list = [3, 8]\n",
    "Expected Output:\n",
    "False"
   ]
  },
  {
   "cell_type": "code",
   "execution_count": 13,
   "id": "b8709e3d-19e2-4ef2-a7b5-80c0d756a3a9",
   "metadata": {},
   "outputs": [
    {
     "name": "stdin",
     "output_type": "stream",
     "text": [
      "enter your big list number: [1, 3, 5, 7, 9]\n",
      "enter your small list number: [3, 7]\n"
     ]
    },
    {
     "name": "stdout",
     "output_type": "stream",
     "text": [
      "Expected Output:True\n"
     ]
    }
   ],
   "source": [
    "def is_subsequence(list_small,list_big):  \n",
    "    i=0  #for pointer in small list \n",
    "    for items in list_big: \n",
    "        if i<len(list_small) and list_small[i]==items: \n",
    "            i+=1 \n",
    "    return i==len(list_small) \n",
    "def main(): \n",
    "    try:\n",
    "        list_big=eval(input(\"enter your big list number:\"))\n",
    "        list_small=eval(input(\"enter your small list number:\"))\n",
    "        result=is_subsequence(list_small,list_big)\n",
    "        print(f\"Expected Output:{result}\")\n",
    "    except ValueError: \n",
    "         print(\"Invalid input,please enter valid input\") \n",
    "    except Exception as e:\n",
    "        print(\"An unncesessary error occured\")\n",
    "if __name__ == \"__main__\":\n",
    "    main()"
   ]
  },
  {
   "cell_type": "markdown",
   "id": "99964448-6f9f-4cc1-b76b-a5a0ea8877ad",
   "metadata": {},
   "source": [
    "44. Find Common Elements in Three Lists\n",
    " Write a function to find elements common in three lists.\n",
    "Example:\n",
    " Input:\n",
    "list1 = [1, 2, 3, 4, 5]\n",
    "list2 = [3, 4, 5, 6, 7]\n",
    "list3 = [5, 6, 7, 8, 9]\n",
    " Expected Output:\n",
    "[5]"
   ]
  },
  {
   "cell_type": "code",
   "execution_count": 15,
   "id": "db39981e-a73c-424d-be58-4df176a9ec93",
   "metadata": {},
   "outputs": [
    {
     "name": "stdin",
     "output_type": "stream",
     "text": [
      "enter your list1 number: [1, 2, 3, 4, 5]\n",
      "enter your list2 number:  [3, 4, 5, 6, 7]\n",
      "enter your list3 number: [5, 6, 7, 8, 9]\n"
     ]
    },
    {
     "name": "stdout",
     "output_type": "stream",
     "text": [
      "Expected Output:[5]\n"
     ]
    }
   ],
   "source": [
    "def common_elements(list1,list2,list3): \n",
    "    set1=set(list1)\n",
    "    set2=set(list2) \n",
    "    set3=set(list3) \n",
    "    common=set1.intersection(set2,set3) \n",
    "    return list(common)\n",
    "def main(): \n",
    "    try:\n",
    "        list1=eval(input(\"enter your list1 number:\"))\n",
    "        list2=eval(input(\"enter your list2 number:\")) \n",
    "        list3=eval(input(\"enter your list3 number:\"))\n",
    "        result=common_elements(list1,list2,list3)\n",
    "        print(f\"Expected Output:{result}\")\n",
    "    except ValueError: \n",
    "         print(\"Invalid input,please enter valid input\") \n",
    "    except Exception as e:\n",
    "        print(\"An unncesessary error occured\")\n",
    "if __name__ == \"__main__\":\n",
    "    main()"
   ]
  },
  {
   "cell_type": "markdown",
   "id": "3fcc20cf-f37c-4e0b-be6a-b649799871b4",
   "metadata": {},
   "source": [
    "45. Swap Two Variables Without Temporary Variable\n",
    " Write a program to swap the values of two variables without using a temporary variable.\n",
    "Example:\n",
    " Input:\n",
    "a = 5\n",
    "b = 10\n",
    " Expected Output (after swapping):\n",
    "a should become 10\n",
    "b should become 5"
   ]
  },
  {
   "cell_type": "code",
   "execution_count": 6,
   "id": "08119c57-2a98-485c-ab6a-f249e0124327",
   "metadata": {},
   "outputs": [
    {
     "name": "stdin",
     "output_type": "stream",
     "text": [
      "enter your value of a: 5\n",
      "enter your value of b: 10\n"
     ]
    },
    {
     "name": "stdout",
     "output_type": "stream",
     "text": [
      "Expected Output:a=10.0,b=5.0\n"
     ]
    }
   ],
   "source": [
    "def swap_value(a,b):\n",
    "    a,b=b,a\n",
    "    return f\"a={a},b={b}\"\n",
    "def main(): \n",
    "    try:\n",
    "        a=float(input(\"enter your value of a:\")) \n",
    "        b=float(input(\"enter your value of b:\"))\n",
    "        result=swap_value(a,b)\n",
    "        print(f\"Expected Output:{result}\")\n",
    "    except ValueError: \n",
    "         print(\"Invalid input,please enter valid input\") \n",
    "    except Exception as e:\n",
    "        print(\"An unncesessary error occured\")\n",
    "if __name__ == \"__main__\":\n",
    "    main()"
   ]
  },
  {
   "cell_type": "markdown",
   "id": "8cff50f6-4dc4-471e-bd73-9bcb2522e204",
   "metadata": {},
   "source": [
    "46. Remove Nth Occurrence of a Character from a String\n",
    " Write a function that removes the nth occurrence of a character from a string.\n",
    "Example:\n",
    " Input:\n",
    "\n",
    "string = &quot;example example example&quot;\n",
    "char = &#39;e&#39;\n",
    "n = 2\n",
    " Expected Output:\n",
    "&quot;example xample example&quot;"
   ]
  },
  {
   "cell_type": "code",
   "execution_count": 31,
   "id": "8dee0b21-83f3-47c5-ae12-867e426dd365",
   "metadata": {},
   "outputs": [
    {
     "name": "stdin",
     "output_type": "stream",
     "text": [
      "enter your string: example example example\n",
      "enter your character(remove): e\n",
      "enter your nth occurrence: 2\n"
     ]
    },
    {
     "name": "stdout",
     "output_type": "stream",
     "text": [
      "Expected Output:exampl exampl exampl\n"
     ]
    }
   ],
   "source": [
    "def remove_nth_occurrence(string,char,n):\n",
    "    words=string.split() \n",
    "    result_word=[]\n",
    "    for word_index,items in enumerate(words,start=1):\n",
    "        count=0\n",
    "        new_word=\"\" \n",
    "        for i in items:\n",
    "            if char==i:\n",
    "                count+=1 \n",
    "                if count==n: \n",
    "                    continue\n",
    "            new_word+=i \n",
    "        result_word.append(new_word)\n",
    "    return \" \".join(result_word)\n",
    "def main(): \n",
    "    try:\n",
    "        str1=input(\"enter your string:\") \n",
    "        char=input(\"enter your character(remove):\") \n",
    "        n=int(input(\"enter your nth occurrence:\"))\n",
    "        result=remove_nth_occurrence(str1,char,n)\n",
    "        print(f\"Expected Output:{result}\")\n",
    "    except ValueError: \n",
    "         print(\"Invalid input,please enter valid input\") \n",
    "    except Exception as e:\n",
    "        print(\"An unncesessary error occured\")\n",
    "if __name__ == \"__main__\":\n",
    "    main()"
   ]
  },
  {
   "cell_type": "markdown",
   "id": "1654dd42-2626-4e60-bb27-86d0f5ca0771",
   "metadata": {},
   "source": [
    "47. Find the First Non-Repeated Character in a String\n",
    " Write a function to return the first non-repeated character in a string.\n",
    "Example:\n",
    " Input:\n",
    "string = &quot;swiss&quot;\n",
    "Expected Output:\n",
    "&#39;w&#39;\n",
    " Input:\n",
    "string = &quot;repeated&quot;\n",
    "Expected Output:\n",
    "&#39;r&#39;"
   ]
  },
  {
   "cell_type": "code",
   "execution_count": 38,
   "id": "b35ff136-35c4-4004-8a76-500ab9d58d27",
   "metadata": {},
   "outputs": [
    {
     "name": "stdin",
     "output_type": "stream",
     "text": [
      "enter your string: swiss\n"
     ]
    },
    {
     "name": "stdout",
     "output_type": "stream",
     "text": [
      "Expected Output:w\n"
     ]
    }
   ],
   "source": [
    "def first_non_repeated_character(string): \n",
    "    freq={} \n",
    "    for ch in string: \n",
    "        freq[ch]=freq.get(ch,0)+1\n",
    "    for ch in string: \n",
    "        if freq[ch]==1: \n",
    "            return ch\n",
    "    return None\n",
    "def main(): \n",
    "    try:\n",
    "        string=input(\"enter your string:\") \n",
    "        result=first_non_repeated_character(string)\n",
    "        print(f\"Expected Output:{result}\")\n",
    "    except ValueError: \n",
    "         print(\"Invalid input,please enter valid input\") \n",
    "    except Exception as e:\n",
    "        print(\"An unncesessary error occured\")\n",
    "if __name__ == \"__main__\":\n",
    "    main()"
   ]
  },
  {
   "cell_type": "markdown",
   "id": "45778c00-8ecf-4596-8aec-e87923ace474",
   "metadata": {},
   "source": [
    "48. Check if String Contains Only Digits\n",
    " Write a function that checks if a string contains only numeric characters.\n",
    "Example:\n",
    " Input:\n",
    "string = &quot;123456&quot;\n",
    " Expected Output:\n",
    "True\n",
    " Input:\n",
    "string = &quot;123a56&quot;\n",
    " Expected Output:\n",
    "False"
   ]
  },
  {
   "cell_type": "code",
   "execution_count": 39,
   "id": "4134a450-f266-4880-8c3f-fbaa5eb4e9e0",
   "metadata": {},
   "outputs": [
    {
     "name": "stdin",
     "output_type": "stream",
     "text": [
      "enter your string: 123a56\n"
     ]
    },
    {
     "name": "stdout",
     "output_type": "stream",
     "text": [
      "Expected Output:False\n"
     ]
    }
   ],
   "source": [
    "def is_digit_string(string): \n",
    "    if string.isdecimal(): \n",
    "        return True\n",
    "    else: \n",
    "        return False\n",
    "def main(): \n",
    "    try:\n",
    "        string=input(\"enter your string:\") \n",
    "        result=is_digit_string(string)\n",
    "        print(f\"Expected Output:{result}\")\n",
    "    except ValueError: \n",
    "         print(\"Invalid input,please enter valid input\") \n",
    "    except Exception as e:\n",
    "        print(\"An unncesessary error occured\")\n",
    "if __name__ == \"__main__\":\n",
    "    main()"
   ]
  },
  {
   "cell_type": "markdown",
   "id": "e01d70c8-cf1c-4702-9b00-b38d1d61cfc8",
   "metadata": {},
   "source": [
    "49. Check if Number is Armstrong Number\n",
    " Write a function that checks if a number is an Armstrong number.\n",
    " Example: 153 is an Armstrong number\n",
    "because 1 3 +5 3 +3 3 =153."
   ]
  },
  {
   "cell_type": "code",
   "execution_count": 45,
   "id": "a2be7776-48e5-40e1-a4f2-dc444ff246d6",
   "metadata": {},
   "outputs": [
    {
     "name": "stdin",
     "output_type": "stream",
     "text": [
      "enter your string: 153\n"
     ]
    },
    {
     "name": "stdout",
     "output_type": "stream",
     "text": [
      "Expected Output:153 is an armstrong number\n"
     ]
    }
   ],
   "source": [
    "def is_armstrong(numb): \n",
    "    digit=str(numb) \n",
    "    power=len(digit) \n",
    "    total=0\n",
    "    for item in digit: \n",
    "        total+=int(item)**power \n",
    "    if total==numb: \n",
    "        return f\"{numb} is an armstrong number\" \n",
    "    else: \n",
    "        return f\"{numb} is not a Armstrong number\" \n",
    "def main(): \n",
    "    try:\n",
    "        numb=int(input(\"enter your string:\")) \n",
    "        result=is_armstrong(numb)\n",
    "        print(f\"Expected Output:{result}\")\n",
    "    except ValueError: \n",
    "         print(\"Invalid input,please enter valid input\") \n",
    "    except Exception as e:\n",
    "        print(\"An unncesessary error occured\")\n",
    "if __name__ == \"__main__\":\n",
    "    main()"
   ]
  },
  {
   "cell_type": "markdown",
   "id": "29f9a78b-2d9f-479d-806a-db58e4440d00",
   "metadata": {},
   "source": [
    "50. Generate All Subsets of a Set\n",
    " Write a function to generate all possible subsets of a given set (list) of numbers.\n",
    "Example:\n",
    " Input:\n",
    "numbers = [1, 2, 3]\n",
    " Expected Output:\n",
    "[[], [1], [2], [3], [1, 2], [1, 3], [2, 3], [1, 2, 3]]"
   ]
  },
  {
   "cell_type": "code",
   "execution_count": 46,
   "id": "4ccee4d2-f67a-49b9-a76e-4b40c28c897f",
   "metadata": {},
   "outputs": [
    {
     "name": "stdin",
     "output_type": "stream",
     "text": [
      "enter your list elements: 1 2 3\n"
     ]
    },
    {
     "name": "stdout",
     "output_type": "stream",
     "text": [
      "Expected Output:[[], ['1'], ['2'], ['1', '2'], ['3'], ['1', '3'], ['2', '3'], ['1', '2', '3']]\n"
     ]
    }
   ],
   "source": [
    "def subsets_list(list1): \n",
    "    subsets=[[]] \n",
    "    for items in list1: \n",
    "        new_subsets=[] \n",
    "        for sub in subsets: \n",
    "            new_subsets.append(sub+[items]) \n",
    "        subsets.extend(new_subsets) \n",
    "    return subsets \n",
    "def main(): \n",
    "    try:\n",
    "        numb=input(\"enter your list elements:\")\n",
    "        list1=numb.split()\n",
    "        result=subsets_list(list1)\n",
    "        print(f\"Expected Output:{result}\")\n",
    "    except ValueError: \n",
    "         print(\"Invalid input,please enter valid input\") \n",
    "    except Exception as e:\n",
    "        print(\"An unncesessary error occured\")\n",
    "if __name__ == \"__main__\":\n",
    "    main()"
   ]
  },
  {
   "cell_type": "code",
   "execution_count": null,
   "id": "ca1e8f32-8757-42bf-bad8-e13549580634",
   "metadata": {},
   "outputs": [],
   "source": []
  }
 ],
 "metadata": {},
 "nbformat": 4,
 "nbformat_minor": 5
}
