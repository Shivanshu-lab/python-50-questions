{
 "cells": [
  {
   "cell_type": "raw",
   "id": "9358f663-7aa4-4659-84f0-fdf8a033cccb",
   "metadata": {},
   "source": [
    "1. Take the input from user and find whether number is prime or not?\n",
    "Prime numbers are number which are divide by 1 or themselves only.\n",
    "Example: 13 is a prime number.\n",
    "Example: 97 is a prime number"
   ]
  },
  {
   "cell_type": "code",
   "execution_count": 5,
   "id": "ed271b44-d054-46c1-9242-c70ddb4065c0",
   "metadata": {},
   "outputs": [
    {
     "name": "stdin",
     "output_type": "stream",
     "text": [
      "enter your number : 13\n"
     ]
    },
    {
     "name": "stdout",
     "output_type": "stream",
     "text": [
      "13 is a prime number\n"
     ]
    }
   ],
   "source": [
    "def prime_number_finder(num):\n",
    "    if num < 1:\n",
    "        return False\n",
    "    for i in range(2,num): \n",
    "        if num % i==0: \n",
    "            return False \n",
    "    return True \n",
    "def main():\n",
    "    try:\n",
    "        num=int(input(\"enter your number :\")) \n",
    "        if prime_number_finder(num): \n",
    "            print(f\"{num} is a prime number\") \n",
    "        else:\n",
    "            print(f\"{num} is not a prime number\") \n",
    "    except ValueError: \n",
    "        print(\"Invalid input,please enter valid input\") \n",
    "    except Exception as e: \n",
    "        print(f\"an unnecessary error occured\",{e})\n",
    "if __name__==\"__main__\": \n",
    "    main()"
   ]
  },
  {
   "cell_type": "raw",
   "id": "60a15001-8e90-4cd6-9a80-f2d3d4b64c12",
   "metadata": {},
   "source": [
    "Reverse the string using for loop.\n",
    "string =\"python\""
   ]
  },
  {
   "cell_type": "code",
   "execution_count": 40,
   "id": "86f93b32-00d5-40fb-ad18-d57338172200",
   "metadata": {},
   "outputs": [
    {
     "name": "stdin",
     "output_type": "stream",
     "text": [
      "enter your string : python\n"
     ]
    },
    {
     "name": "stdout",
     "output_type": "stream",
     "text": [
      "reverse string is: nohtyp\n"
     ]
    }
   ],
   "source": [
    "def reverse_string_func(text): \n",
    "    reverssed_string='' \n",
    "    for i in text:\n",
    "        reverssed_string=i+reverssed_string \n",
    "    return reverssed_string\n",
    "def main():\n",
    "    try:\n",
    "        string=input(\"enter your string :\")  \n",
    "        if not string.isalpha():\n",
    "            raise ValueError() \n",
    "        if reverse_string_func(string):\n",
    "            print(\"reverse string is:\",reverse_string_func(string)) \n",
    "    except ValueError: \n",
    "        print(\"Invalid input, please enter valid input\") \n",
    "    except Exception as e: \n",
    "        print(f\"an unnecessary error occured\",e) \n",
    "if __name__==\"__main__\": \n",
    "    main()"
   ]
  },
  {
   "cell_type": "raw",
   "id": "c5f3e49f-40d4-4b8c-b688-17f0be49f4c3",
   "metadata": {},
   "source": [
    "Palindrome Check (String Problem)\n",
    "Write a function to check whether a given string is a palindrome (a string that reads the same\n",
    "forward and backward is called palindrome).\n",
    "String = “mom” # if we reverse this string, we get the same Output “mom”\n",
    "Expected output: string is a palindrome."
   ]
  },
  {
   "cell_type": "code",
   "execution_count": 37,
   "id": "6b5fe3b6-5b18-4fcb-b08e-7bf0798d6862",
   "metadata": {},
   "outputs": [
    {
     "name": "stdin",
     "output_type": "stream",
     "text": [
      "enter your string: level\n"
     ]
    },
    {
     "name": "stdout",
     "output_type": "stream",
     "text": [
      "'level' is a palindrome string\n"
     ]
    }
   ],
   "source": [
    "def palindrome_string(text): \n",
    "    reversed_string=\"\"\n",
    "    for i in text:\n",
    "        reversed_string=i+reversed_string \n",
    "    if text==reversed_string and len(text)==len(reversed_string): \n",
    "        return True\n",
    "    else:\n",
    "        return False\n",
    "def main():\n",
    "    try:\n",
    "        string=input(\"enter your string:\") \n",
    "        if not string.isalpha(): \n",
    "            raise ValueError(\"string must contain only alphabat\")\n",
    "        if palindrome_string(string):\n",
    "            print(f\"\\'{string}\\' is a palindrome string\") \n",
    "        else:\n",
    "            print(f\"\\'{string}\\' is not a palindrome string\") \n",
    "    except ValueError as e: \n",
    "        print(\"Invalid innput,please enter valid input,\",e) \n",
    "if __name__==\"__main__\": \n",
    "    main()"
   ]
  },
  {
   "cell_type": "raw",
   "id": "8b568f58-6c2c-4a93-b3aa-ecec66c6ce05",
   "metadata": {},
   "source": [
    "4. Calculate factorial of a number\n",
    "Write a function calculate_factorial that takes a number as input and returns its factorial. Handle\n",
    "cases where the input is not a non-negative integer or zero.\n",
    "Example: If number is 5 factorials will be (5x4x2x3x2x1=120)\n",
    "Expected output: 120 if number is 5"
   ]
  },
  {
   "cell_type": "code",
   "execution_count": 45,
   "id": "0cc83932-d904-4bb8-b818-2b61bcb233d4",
   "metadata": {},
   "outputs": [
    {
     "name": "stdin",
     "output_type": "stream",
     "text": [
      "enter your number: 5\n"
     ]
    },
    {
     "name": "stdout",
     "output_type": "stream",
     "text": [
      "factorial of 5 is: 120\n"
     ]
    }
   ],
   "source": [
    "def check_factorial(num): \n",
    "    factorial=1\n",
    "    for i in range(1,num+1): \n",
    "        factorial *= i \n",
    "    return factorial \n",
    "def main(): \n",
    "    try:\n",
    "        num=int(input(\"enter your number:\")) \n",
    "        if check_factorial(num): \n",
    "            print(f\"factorial of {num} is:\",check_factorial(num)) \n",
    "    except ValueError: \n",
    "        print(\"Invalid input,please enter valid input\") \n",
    "if __name__==\"__main__\": \n",
    "    main()"
   ]
  },
  {
   "cell_type": "raw",
   "id": "7e2b82fd-9877-4e6e-b2d4-add61aa643b1",
   "metadata": {},
   "source": [
    "5. Find the Second Largest Element in a List using for loop.\n",
    "Write a function to find the second largest element in a list without using built-in sorting.\n",
    "Example\n",
    "Input: [7, 5, 8, 2, 10, 9]\n",
    "Expected Output: 9\n",
    "Example\n",
    "Input: [4, 4, 4, 4]\n",
    "Expected Output: None "
   ]
  },
  {
   "cell_type": "code",
   "execution_count": 9,
   "id": "0e9f28a6-67b8-404e-a9a2-f7549740ad42",
   "metadata": {},
   "outputs": [
    {
     "name": "stdin",
     "output_type": "stream",
     "text": [
      "enter your list 4444444\n"
     ]
    },
    {
     "name": "stdout",
     "output_type": "stream",
     "text": [
      "no second largest element is found\n"
     ]
    }
   ],
   "source": [
    "def second_largest_element_finder(text): \n",
    "    largest=second_largest=float(\"-inf\")\n",
    "    for item in text:\n",
    "        if item>largest:\n",
    "            second_largest=largest \n",
    "            largest=item \n",
    "        elif largest>item>second_largest: \n",
    "            second_largest=item \n",
    "    if second_largest==float(\"-inf\"): \n",
    "        return None\n",
    "    return second_largest \n",
    "def main(): \n",
    "    try:\n",
    "        text=input(\"enter your list\")\n",
    "        result=list(map(int,text.split())) \n",
    "        num=second_largest_element_finder(result)\n",
    "        if num is None: \n",
    "            print(\"no second largest element is found\") \n",
    "        else:\n",
    "            print(\"second largest element is:\",num)\n",
    "    except ValueError: \n",
    "        print(\"Invalid input, please enter valid input\")\n",
    "if __name__==\"__main__\": \n",
    "    main() "
   ]
  },
  {
   "cell_type": "code",
   "execution_count": 52,
   "id": "e6f05f2f-f656-4b38-b028-6958dd6980b0",
   "metadata": {},
   "outputs": [
    {
     "name": "stdout",
     "output_type": "stream",
     "text": [
      "5\n"
     ]
    }
   ],
   "source": [
    "print(second_largest_element_finder((1,2,3,4,5,6)))"
   ]
  },
  {
   "cell_type": "code",
   "execution_count": null,
   "id": "887e2b5b-6a4f-4934-8ac8-7a5621932b49",
   "metadata": {},
   "outputs": [],
   "source": []
  }
 ],
 "metadata": {
  "kernelspec": {
   "display_name": "Python [conda env:base] *",
   "language": "python",
   "name": "conda-base-py"
  },
  "language_info": {
   "codemirror_mode": {
    "name": "ipython",
    "version": 3
   },
   "file_extension": ".py",
   "mimetype": "text/x-python",
   "name": "python",
   "nbconvert_exporter": "python",
   "pygments_lexer": "ipython3",
   "version": "3.13.5"
  }
 },
 "nbformat": 4,
 "nbformat_minor": 5
}
